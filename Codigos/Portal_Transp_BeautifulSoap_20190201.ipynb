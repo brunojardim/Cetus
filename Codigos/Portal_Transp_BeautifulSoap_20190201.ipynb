{
 "cells": [
  {
   "cell_type": "code",
   "execution_count": 8,
   "metadata": {},
   "outputs": [
    {
     "name": "stdout",
     "output_type": "stream",
     "text": [
      "Collecting lxml\n",
      "  Downloading https://files.pythonhosted.org/packages/5d/d4/e81be10be160a6323cf5f29f1eabc9693080cb16780a2e19c96091ee37ee/lxml-4.3.0-cp36-cp36m-manylinux1_x86_64.whl (5.7MB)\n",
      "\u001b[K    100% |████████████████████████████████| 5.7MB 155kB/s eta 0:00:011\n",
      "\u001b[?25hInstalling collected packages: lxml\n",
      "Successfully installed lxml-4.3.0\n",
      "\u001b[33mYou are using pip version 9.0.3, however version 19.0.1 is available.\n",
      "You should consider upgrading via the 'pip install --upgrade pip' command.\u001b[0m\n"
     ]
    }
   ],
   "source": [
    "# Instalando pyarrow (Não é recomendado instalar por aqui, o ideal é fazer via terminal de acesso SSH ao cluster)\n",
    "import sys\n",
    "!{sys.executable} -m pip install lxml"
   ]
  },
  {
   "cell_type": "code",
   "execution_count": 78,
   "metadata": {},
   "outputs": [
    {
     "name": "stdout",
     "output_type": "stream",
     "text": [
      "\"01/31/2019\",23.02,25.14,22.83,24.41,\"181,877,200\"\n",
      "\"01/30/2019\",21.49,23.13,21.37,23.09,\"210,777,100\"\n",
      "\"01/29/2019\",20.26,20.39,19.05,19.25,\"126,418,900\"\n",
      "\"01/28/2019\",20.315,21.01,20.02,20.18,\"134,743,600\"\n",
      "\"01/25/2019\",20.99,22.03,20.79,21.93,\"110,161,400\"\n",
      "\"01/24/2019\",20.06,21.01,20.04,20.85,\"96,329,090\"\n",
      "\"01/23/2019\",20.03,20.48,19.55,19.8,\"77,542,570\"\n",
      "\"01/22/2019\",20.48,20.9199,19.7,19.76,\"78,292,580\"\n",
      "\"01/18/2019\",20.37,21.05,20.02,20.77,\"87,971,230\"\n",
      "\"01/17/2019\",19.49,20.51,19.02,20.25,\"84,502,560\"\n",
      "\"01/16/2019\",20.4,20.54,19.71,19.73,\"70,533,680\"\n",
      "\"01/15/2019\",20.44,20.68,20.26,20.38,\"62,548,940\"\n",
      "\"01/14/2019\",19.96,20.62,19.75,20.23,\"71,053,050\"\n",
      "\"01/11/2019\",19.47,20.35,19.19,20.27,\"84,972,130\"\n",
      "\"01/10/2019\",19.76,19.8342,18.9,19.74,\"115,286,200\"\n",
      "\"01/09/2019\",20.89,21.44,20.07,20.19,\"163,680,500\"\n",
      "\"01/08/2019\",21.19,21.2,19.68,20.75,\"117,593,000\"\n",
      "\"01/07/2019\",19.44,20.68,19,20.57,\"106,684,100\"\n",
      "\"01/04/2019\",17.55,19.07,17.43,19,\"111,510,800\"\n",
      "\"01/03/2019\",18.42,18.68,16.94,17.05,\"117,014,500\"\n",
      "\"01/02/2019\",18.01,19,17.98,18.83,\"86,497,360\"\n",
      "\"12/31/2018\",18.15,18.5101,17.85,18.46,\"84,461,870\"\n",
      "\"12/28/2018\",17.53,18.31,17.135,17.82,\"108,590,900\"\n",
      "\"12/27/2018\",17.43,17.74,16.44,17.49,\"110,853,500\"\n",
      "\"12/26/2018\",16.88,17.91,16.03,17.9,\"108,498,500\"\n",
      "\"12/24/2018\",16.52,17.2199,16.37,16.65,\"62,933,130\"\n",
      "\"12/21/2018\",18.12,18.34,16.76,16.93,\"129,562,600\"\n",
      "\"12/20/2018\",18.11,18.86,17.34,17.94,\"119,056,000\"\n",
      "\"12/19/2018\",19.44,19.72,18,18.16,\"120,303,700\"\n",
      "\"12/18/2018\",19.15,19.84,18.88,19.5,\"101,088,300\"\n",
      "\"12/17/2018\",20.01,20.025,18.635,18.83,\"115,048,600\"\n",
      "\"12/14/2018\",19.58,20.7,19.52,19.9,\"84,614,800\"\n",
      "\"12/13/2018\",20.63,20.865,19.76,19.86,\"87,940,320\"\n",
      "\"12/12/2018\",20.32,21.02,19.71,20.48,\"100,056,400\"\n",
      "\"12/11/2018\",20.71,21.14,19.69,19.98,\"87,817,520\"\n",
      "\"12/10/2018\",19.35,20.13,19.27,19.99,\"77,641,220\"\n",
      "\"12/07/2018\",21.3,21.3799,19.17,19.46,\"105,527,100\"\n",
      "\"12/06/2018\",20.22,21.41,20.06,21.3,\"103,133,300\"\n",
      "\"12/04/2018\",23.35,23.42,21.07,21.12,\"127,013,600\"\n",
      "\"12/03/2018\",22.48,23.75,22.37,23.71,\"139,093,500\"\n",
      "\"11/30/2018\",21.3,21.36,20.52,21.3,\"82,106,130\"\n",
      "\"11/29/2018\",21.19,21.61,20.73,21.43,\"79,662,780\"\n",
      "\"11/28/2018\",21.82,21.88,20.18,21.34,\"134,198,200\"\n",
      "\"11/27/2018\",19.77,21.45,19.73,21.05,\"118,771,800\"\n",
      "\"11/26/2018\",19.96,20.19,19.1101,20.08,\"82,892,900\"\n",
      "\"11/23/2018\",18.61,19.83,18.56,19.38,\"54,611,300\"\n",
      "\"11/21/2018\",20.05,20.31,18.5,18.73,\"81,455,560\"\n",
      "\"11/20/2018\",17.4,19.58,17.18,19.21,\"109,673,200\"\n",
      "\"11/19/2018\",20.4,20.59,19.09,19.11,\"93,169,460\"\n",
      "\"11/16/2018\",19.87,20.97,19.72,20.66,\"112,179,200\"\n",
      "\"11/15/2018\",20.72,21.77,20.42,21.49,\"96,460,050\"\n",
      "\"11/14/2018\",20.18,21.11,19.7599,20.81,\"106,138,800\"\n",
      "\"11/13/2018\",19.28,20.02,18.97,19.61,\"75,852,920\"\n",
      "\"11/12/2018\",20.68,20.85,18.8,19.03,\"95,665,980\"\n",
      "\"11/09/2018\",20.77,21.19,20.11,21.03,\"85,769,210\"\n",
      "\"11/08/2018\",21.77,22.08,20.97,21.2,\"92,265,540\"\n",
      "\"11/07/2018\",21.42,22.2235,21.07,21.84,\"120,899,500\"\n",
      "\"11/06/2018\",19.5,21.65,19.48,20.68,\"144,761,700\"\n",
      "\"11/05/2018\",20.12,20.18,18.88,19.9,\"107,776,700\"\n",
      "\"11/02/2018\",20.59,21.06,19.47,20.23,\"123,512,800\"\n",
      "\"11/01/2018\",18.41,20.33,18.08,20.22,\"136,010,400\"\n",
      "\"10/31/2018\",17.87,18.34,17.12,18.21,\"110,330,500\"\n"
     ]
    }
   ],
   "source": [
    "import requests\n",
    "from bs4 import BeautifulSoup\n",
    "\n",
    "URL = 'http://www.nasdaq.com/symbol/amd/historical'\n",
    "page = requests.get(URL)\n",
    "soup = BeautifulSoup(page.content, 'html.parser')\n",
    "tableDiv = soup.find_all('div', class_=\"genTable\")\n",
    "tableRows = tableDiv[0].findAll('tr')\n",
    "\n",
    "for tableRow in tableRows[2:]:\n",
    "    row = tuple(tableRow.getText().split())\n",
    "    print ('\"%s\",%s,%s,%s,%s,\"%s\"' % row)"
   ]
  },
  {
   "cell_type": "code",
   "execution_count": 104,
   "metadata": {},
   "outputs": [],
   "source": [
    "import urllib.request\n",
    "\n",
    "#url = 'https://en.wikipedia.org/wiki/ISO_3166-1_alpha-2'\n",
    "url = 'http://www.portaltransparencia.gov.br/contratos/consulta?paginacaoSimples=true&tamanhoPagina=&offset=&direcaoOrdenacao=asc&colunasSelecionadas=linkDetalhamento%2CdataAssinatura%2CdataPublicacaoDOU%2CdataInicioVigencia%2CdataFimVigencia%2CorgaoSuperior%2CorgaoEntidadeVinculada%2CunidadeGestora%2CformaContratacao%2CgrupoObjetoContratacao%2CnumeroContrato%2CnomeFornecedor%2CcpfCnpjFornecedor%2Csituacao%2CvalorContratado'\n",
    "req = urllib.request.urlopen(url)\n",
    "article = req.read().decode()\n",
    "\n",
    "with open('teste_bs_00.html', 'w') as fo:\n",
    "    fo.write(article)"
   ]
  },
  {
   "cell_type": "code",
   "execution_count": 108,
   "metadata": {},
   "outputs": [],
   "source": [
    "from bs4 import BeautifulSoup\n",
    "\n",
    "# Load article, turn into soup and get the <table>s.\n",
    "article = open('teste_bs_00.html').read()\n",
    "soup = BeautifulSoup(article, 'html.parser')\n",
    "tables = soup.find_all('table', id='lista')"
   ]
  },
  {
   "cell_type": "code",
   "execution_count": 109,
   "metadata": {},
   "outputs": [
    {
     "data": {
      "text/plain": [
       "[<table id=\"lista\">\n",
       " </table>]"
      ]
     },
     "execution_count": 109,
     "metadata": {},
     "output_type": "execute_result"
    }
   ],
   "source": [
    "tables"
   ]
  },
  {
   "cell_type": "code",
   "execution_count": 107,
   "metadata": {},
   "outputs": [
    {
     "data": {
      "text/plain": [
       "'\\n\\n\\n\\n<!DOCTYPE HTML>\\n<html lang=\"pt-br\">\\n<head>\\n    <meta http-equiv=\"Content-Type\"     content=\"text/html; charset=UTF-8\">\\n    <meta http-equiv=\"X-UA-Compatible\"  content=\"IE=edge\">\\n    <meta name=\"viewport\"               content=\"width=device-width,initial-scale=1.0\">\\n    <meta name=\"description\"            content=\"\">\\n    <meta name=\"author\"                 content=\"\"/>\\n    <title>Detalhamento do contrato - Portal da transparência</title>\\n\\n    <!-- Global site tag (gtag.js) - Google Analytics -->\\n    <script async src=\"https://www.googletagmanager.com/gtag/js?id=UA-1665737-25\"></script>\\n    <script>\\n        window.dataLayer = window.dataLayer || [];\\n        function gtag(){dataLayer.push(arguments);}\\n        gtag(\\'js\\', new Date());\\n\\n        gtag(\\'config\\', \\'UA-1665737-25\\');\\n    </script>\\n\\n    <!-- BARRA DO TOPO DO GOVERNO -->\\n    <link rel=\"stylesheet\"              href=\"/static/libs/font-awesome-4.4.0/css/font-awesome.min.css?v=1.7.1\" />\\n    <link rel=\"stylesheet\"              href=\"https://fonts.googleapis.com/css?family=Open+Sans:400,600,700,800%7COpen+Sans+Condensed:700%7CRoboto+Condensed:400,700\" type=\"text/css\" />\\n    <link rel=\"stylesheet\"              href=\"/static/libs/bootstrap/css/bootstrap.min.css?v=1.7.1\" />\\n\\n    <!--[if IE]>\\n    <style>\\n        select {\\n            padding: 0px 1% !important;\\n            background-image: none !important;\\n        }\\n    </style>\\n    <![endif]-->\\n\\n    <link rel=\"stylesheet\" href=\"/static/css/layoutStyle.css?v=1.7.1\" />\\n    <link rel=\"stylesheet\" href=\"/static/libs/timeline/timeline.css?v=1.7.1\" />\\n\\n    <script type=\"text/javascript\"      src=\"/static/libs/jquery/jquery-1.12.0.min.js\"></script>\\n    \\n</head>\\n\\n\\n<body>\\n\\n\\n\\n\\n<header id=\"header\" role=\"banner\">\\n    <section class=\"container\">\\n        <ul role=\"menubar\">\\n            <li role=\"menuitem\"><a href=\"#aconteudo\" accesskey=\"1\">Ir para o conteúdo <span>1</span></a></li>\\n            <li role=\"menuitem\"><a href=\"#amenu-navegacao\" accesskey=\"2\">Ir para o menu <span>2</span></a></li>\\n            <li role=\"menuitem\"><a href=\"#termoBuscaPortal\" accesskey=\"3\">Ir para a busca <span>3</span></a></li>\\n            <li role=\"menuitem\"><a href=\"#arodape\" accesskey=\"4\">Ir para o rodapé <span>4</span></a></li>\\n        </ul>\\n\\n        <ul class=\"menu-borda\" role=\"menubar\">\\n            <li role=\"menuitem\"><a href=\"#\" accesskey=\"5\" id=\"aumentar-fonte\">A+</a></li>\\n            <li role=\"menuitem\"><a href=\"#\" accesskey=\"6\" id=\"diminuir-fonte\">A-</a></li>\\n            <li role=\"menuitem\"><a href=\"#\" accesskey=\"7\">ACESSIBILIDADE</a></li>\\n            <li role=\"menuitem\"><a href=\"#\" accesskey=\"8\" id=\"alto-contraste\">ALTO CONTRASTE</a></li>\\n            <li role=\"menuitem\"><a href=\"/mapa-do-site\" accesskey=\"9\">MAPA DO SITE</a></li>\\n        </ul>\\n\\n        <div class=\"logo\">\\n            <h1><a href=\"/\">Portal da Transparência</a></h1>\\n            <span>MINISTÉRIO DA TRANSPARÊNCIA E CONTROLADORIA-GERAL DA UNIÃO</span>\\n        </div>\\n\\n            <form id=\"form-busca-topo\" class=\"form-busca-topo\" action=\"/busca\" method=\"get\">\\n                <fieldset>\\n                    <legend>Formulário de busca</legend>\\n\\n                    <label for=\"termoBuscaPortal\" class=\"sr-only\">Busque por órgão, cidade, CNPJ, servidor...</label>\\n                    <input type=\"text\" id=\"termoBuscaPortal\" name=\"termo\"\\n                           placeholder=\"Busque por órgão, cidade, CNPJ, servidor...\">\\n\\n                    <button type=\"submit\" aria-label=\"Enviar dados do formulário de busca\"><span\\n                            class=\"sr-only\">Buscar</span><i class=\"glyphicon glyphicon-search\"></i></button>\\n                </fieldset>\\n            </form>\\n\\n    </section>\\n\\n<nav id=\"amenu-navegacao\" class=\"menu-navegacao\" role=\"navigation\">\\n    <div class=\"container container--tipo-b\">\\n        <button type=\"button\" id=\"botaoMenu\"><i class=\"glyphicon glyphicon-menu-hamburger\"></i></button>\\n        <div class=\"menu-wrapper\" style=\"float: left;\">\\n            <ul role=\"menubar\">\\n                <li role=\"menuitem\" aria-haspopup=\"true\" class=\"has-submenu\">\\n                    <a href=\"#\">Sobre o Portal</a>\\n                    <ul role=\"menu\" aria-hidden=\"true\" aria-haspopup=\"true\" class=\"is-submenu\">\\n                        <li role=\"menuitem\"><a href=\"/sobre/o-que-e-e-como-funciona\" onclick=\"window.open(\\'/sobre/o-que-e-e-como-funciona\\', \\'_self\\')\">O que é e como funciona</a></li>\\n                        <li role=\"menuitem\"><a href=\"/sobre/o-que-voce-encontra-no-portal\" onclick=\"window.open(\\'/sobre/o-que-voce-encontra-no-portal\\', \\'_self\\')\">O que você encontra no Portal</a></li>\\n                        <li role=\"menuitem\"><a href=\"/sobre/legislacao\" onclick=\"window.open(\\'/sobre/legislacao\\', \\'_self\\')\">Legislação</a></li>\\n                        <li role=\"menuitem\" class=\"has-submenu\" aria-haspopup=\"true\">\\n                            <a href=\"#\">Dados do portal</a>\\n                            <ul role=\"menu\" aria-hidden=\"true\">\\n                                <li><a href=\"/origem-dos-dados\" onclick=\"window.open(\\'/origem-dos-dados\\', \\'_self\\')\">Origem e atualização</a></li>\\n                                <li><a href=\"/download-de-dados\" onclick=\"window.open(\\'/download-de-dados\\', \\'_self\\')\">Dados abertos</a></li>\\n                                <li><a href=\"/api-de-dados\" onclick=\"window.open(\\'/api-de-dados\\', \\'_self\\')\">API de Dados</a></li>\\n                                <li><a href=\"/download-de-dados/historico\" onclick=\"window.open(\\'/download-de-dados/historico\\', \\'_self\\')\">Histórico de dados</a></li>\\n                            </ul>\\n                        </li>\\n                        <li role=\"menuitem\" class=\"has-submenu\" aria-haspopup=\"true\">\\n                            <a href=\"#\">Contato</a>\\n                            <ul role=\"menu\" aria-hidden=\"true\">\\n                                <li><a href=\"http://www.acessoainformacao.gov.br/\" onclick=\"window.open(\\'http://www.acessoainformacao.gov.br/\\', \\'_self\\')\">Faça um pedido de informação para o Governo Federal</a></li>\\n                                <li><a href=\"https://sistema.ouvidorias.gov.br/publico/Manifestacao/RegistrarManifestacao.aspx?tipo=1\" onclick=\"window.open(\\'https://sistema.ouvidorias.gov.br/publico/Manifestacao/RegistrarManifestacao.aspx?tipo=1\\', \\'_self\\')\">Faça uma denúncia</a></li>\\n                                <li><a href=\"https://sistema.ouvidorias.gov.br/publico/Manifestacao/RegistrarManifestacao.aspx\" onclick=\"window.open(\\'https://sistema.ouvidorias.gov.br/publico/Manifestacao/RegistrarManifestacao.aspx\\', \\'_self\\')\">Registre suas sugestões, dúvidas e reclamações</a></li>\\n                            </ul>\\n                        </li>\\n                    </ul>\\n                </li>\\n                <li role=\"menuitem\" aria-haspopup=\"true\" class=\"has-submenu\">\\n                    <a href=\"#\">Painéis</a>\\n                    <ul role=\"menu\" aria-hidden=\"true\" aria-haspopup=\"true\" class=\"is-submenu\">\\n                        <li role=\"menuitem\"><a href=\"/orgaos\" onclick=\"window.open(\\'/orgaos\\', \\'_self\\')\">Panorama do Governo Federal</a></li>\\n                        <li role=\"menuitem\" class=\"has-submenu\" aria-haspopup=\"true\">\\n                            <a href=\"#\">Receitas e despesas públicas</a>\\n                            <ul role=\"menu\" aria-hidden=\"true\">\\n                                <li><a href=\"/orcamento\" onclick=\"window.open(\\'/orcamento\\', \\'_self\\')\">Orçamento anual</a></li>\\n                                <li><a href=\"/receitas\" onclick=\"window.open(\\'/receitas\\', \\'_self\\')\">Receitas públicas</a></li>\\n                                <li><a href=\"/despesas\" onclick=\"window.open(\\'/despesas\\', \\'_self\\')\">Despesas públicas</a></li>\\n                                <li><a href=\"/transferencias\" onclick=\"window.open(\\'/transferencias\\', \\'_self\\')\">Recursos transferidos</a></li>\\n                                <li><a href=\"/cartoes\" onclick=\"window.open(\\'/cartoes\\', \\'_self\\')\">Gastos por cartões de pagamento</a></li>\\n                            </ul>\\n                        </li>\\n                        <li role=\"menuitem\" class=\"has-submenu\" aria-haspopup=\"true\">\\n                            <a href=\"#\">Políticas públicas</a>\\n                            <ul role=\"menu\" aria-hidden=\"true\">\\n                                <li><a href=\"/funcoes\" onclick=\"window.open(\\'/funcoes\\', \\'_self\\')\">Áreas de atuação do governo</a></li>\\n                                <li><a href=\"/programas-de-governo\" onclick=\"window.open(\\'/programas-de-governo\\', \\'_self\\')\">Programas de governo</a></li>\\n                                <li><a href=\"/beneficios\" onclick=\"window.open(\\'/beneficios\\', \\'_self\\')\">Benefícios aos cidadãos</a></li>\\n                                <li><a href=\"/programas-e-acoes/busca/lista\" onclick=\"window.open(\\'/programas-e-acoes/busca/lista\\', \\'_self\\')\">Programas e ações orçamentárias</a></li>\\n                                <li><a href=\"/emendas\" onclick=\"window.open(\\'/emendas\\', \\'_self\\')\">Emendas parlamentares</a></li>\\n                            </ul>\\n                        </li>\\n                        <li role=\"menuitem\" class=\"has-submenu\" aria-haspopup=\"true\">\\n                            <a href=\"#\">Órgãos e Servidores</a>\\n                            <ul role=\"menu\" aria-hidden=\"true\">\\n                                <li><a href=\"/orgaos-superiores\" onclick=\"window.open(\\'/orgaos-superiores\\', \\'_self\\')\">Órgãos</a></li>\\n                                <li><a href=\"/servidores\" onclick=\"window.open(\\'/servidores\\', \\'_self\\')\">Servidores públicos</a></li>\\n                                <li><a href=\"/viagens\" onclick=\"window.open(\\'/viagens\\', \\'_self\\')\">Viagens a serviço</a></li>\\n                                <li><a href=\"/imoveis-funcionais\" onclick=\"window.open(\\'/imoveis-funcionais\\', \\'_self\\')\">Imóveis funcionais</a></li>\\n                            </ul>\\n                        </li>\\n                        <li role=\"menuitem\" class=\"has-submenu\" aria-haspopup=\"true\">\\n                            <a href=\"#\">Licitações, contratos e convênios</a>\\n                            <ul role=\"menu\" aria-hidden=\"true\">\\n                                <li><a href=\"/licitacoes\" onclick=\"window.open(\\'/licitacoes\\', \\'_self\\')\">Licitações</a></li>\\n                                <li><a href=\"/contratos\" onclick=\"window.open(\\'/contratos\\', \\'_self\\')\">Contratos</a></li>\\n                                <li><a href=\"/convenios\" onclick=\"window.open(\\'/convenios\\', \\'_self\\')\">Convênios e outros acordos</a></li>\\n                            </ul>\\n                        </li>\\n                        <li role=\"menuitem\"><a href=\"/sancoes\" onclick=\"window.open(\\'/sancoes\\', \\'_self\\')\">Sanções aplicadas a pessoas físicas, jurídicas e servidores</a></li>\\n                        <li role=\"menuitem\"><a href=\"/localidades\" onclick=\"window.open(\\'/localidades\\', \\'_self\\')\">Localidades</a></li>\\n                    </ul>\\n                </li>\\n                <li role=\"menuitem\" aria-haspopup=\"true\" class=\"has-submenu\">\\n                    <a href=\"#\">Consultas Detalhadas</a>\\n\\n                    <ul role=\"menu\" aria-hidden=\"true\" aria-haspopup=\"true\" class=\"is-submenu\">\\n                        <li role=\"menuitem\"><a href=\"/orcamento/receitas\" onclick=\"window.open(\\'/orcamento/receitas\\', \\'_self\\')\">Orçamento da receita</a></li>\\n                        <li role=\"menuitem\"><a href=\"/receitas/consulta\" onclick=\"window.open(\\'/receitas/consulta\\', \\'_self\\')\">Execução de receitas públicas</a></li>\\n                        <li role=\"menuitem\"><a href=\"/orcamento/despesas\" onclick=\"window.open(\\'/orcamento/despesas\\', \\'_self\\')\">Orçamento da despesa</a></li>\\n                        <li role=\"menuitem\" class=\"has-submenu\" aria-haspopup=\"true\">\\n                            <a href=\"#\">Execução de despesas públicas</a>\\n                            <ul role=\"menu\" aria-hidden=\"true\">\\n                                <li><a href=\"/despesas/orgao\" onclick=\"window.open(\\'/despesas/orgao\\', \\'_self\\')\">Por órgão</a></li>\\n                                <li><a href=\"/despesas/funcao\" onclick=\"window.open(\\'/despesas/funcao\\', \\'_self\\')\">Por área de atuação</a></li>\\n                                <li><a href=\"/despesas/programa-e-acao\" onclick=\"window.open(\\'/despesas/programa-e-acao\\', \\'_self\\')\">Por programa/ação orçamentária</a></li>\\n                                <li><a href=\"/despesas/consulta\" onclick=\"window.open(\\'/despesas/consulta\\', \\'_self\\')\">Por período</a></li>\\n                            </ul>\\n                        </li>\\n                        <li role=\"menuitem\"><a href=\"/despesas/recursos-recebidos\" onclick=\"window.open(\\'/despesas/recursos-recebidos\\', \\'_self\\')\">Recebimento de recursos por favorecido</a></li>\\n                        <li role=\"menuitem\"><a href=\"/despesas/favorecido\" onclick=\"window.open(\\'/despesas/favorecido\\', \\'_self\\')\">Documentos diários de execução da despesa pública</a></li>\\n                        <li role=\"menuitem\"><a href=\"/transferencias/consulta\" onclick=\"window.open(\\'/transferencias/consulta\\', \\'_self\\')\">Recursos Transferidos por UF e Município </a></li>\\n                        <li role=\"menuitem\"><a href=\"/emendas/consulta\" onclick=\"window.open(\\'/emendas/consulta\\', \\'_self\\')\">Emendas parlamentares</a></li>\\n                        <li role=\"menuitem\"><a href=\"/licitacoes/consulta\" onclick=\"window.open(\\'/licitacoes/consulta\\', \\'_self\\')\">Licitações</a></li>\\n                        <li role=\"menuitem\"><a href=\"/contratos/consulta\" onclick=\"window.open(\\'/contratos/consulta\\', \\'_self\\')\">Contratos</a></li>\\n                        <li role=\"menuitem\"><a href=\"/convenios/consulta\" onclick=\"window.open(\\'/convenios/consulta\\', \\'_self\\')\">Convênios e outros acordos</a></li>\\n                        <li role=\"menuitem\"><a href=\"/cartoes/consulta\" onclick=\"window.open(\\'/cartoes/consulta\\', \\'_self\\')\">Gastos por meio de cartões de pagamento</a></li>\\n                        <li role=\"menuitem\"><a href=\"/beneficios/consulta\" onclick=\"window.open(\\'/beneficios/consulta\\', \\'_self\\')\">Benefícios aos cidadãos</a></li>\\n                        <li role=\"menuitem\" class=\"has-submenu\" aria-haspopup=\"true\">\\n                            <a href=\"#\">Imóveis funcionais</a>\\n                            <ul role=\"menu\" aria-hidden=\"true\">\\n                                <li><a href=\"/imoveis-funcionais/imoveis\" onclick=\"window.open(\\'/imoveis-funcionais/imoveis\\', \\'_self\\')\">Relação de imóveis</a></li>\\n                                <li><a href=\"/imoveis-funcionais/permissionarios\" onclick=\"window.open(\\'/imoveis-funcionais/permissionarios\\', \\'_self\\')\">Ocupantes de imóveis</a></li>\\n                            </ul>\\n                        </li>\\n                        <li role=\"menuitem\"><a href=\"/servidores/consulta\" onclick=\"window.open(\\'/servidores/consulta\\', \\'_self\\')\">Servidores públicos</a></li>\\n                        <li role=\"menuitem\"><a href=\"/viagens/consulta\" onclick=\"window.open(\\'/viagens/consulta\\', \\'_self\\')\">Viagens a serviço</a></li>\\n                        <li role=\"menuitem\"><a href=\"/localidades/busca/lista\" onclick=\"window.open(\\'/localidades/busca/lista\\', \\'_self\\')\">Localidades</a></li>\\n                        <li role=\"menuitem\"><a href=\"/pessoa-fisica/busca/lista\" onclick=\"window.open(\\'/pessoa-fisica/busca/lista\\', \\'_self\\')\">Pessoas físicas</a></li>\\n                        <li role=\"menuitem\"><a href=\"/pessoa-juridica/busca/lista\" onclick=\"window.open(\\'/pessoa-juridica/busca/lista\\', \\'_self\\')\">Pessoas jurídicas</a></li>\\n                        <li role=\"menuitem\" class=\"has-submenu\" aria-haspopup=\"true\">\\n                            <a href=\"#\">Sanções aplicadas</a>\\n                            <ul role=\"menu\" aria-hidden=\"true\">\\n                                <li><a href=\"/sancoes/ceis\" onclick=\"window.open(\\'/sancoes/ceis\\', \\'_self\\')\">Cadastro Nacional de Empresas Inidôneas e Suspensas (CEIS)</a></li>\\n                                <li><a href=\"/sancoes/cnep\" onclick=\"window.open(\\'/sancoes/cnep\\', \\'_self\\')\">Cadastro Nacional de Empresas Punidas (CNEP)</a></li>\\n                                <li><a href=\"/sancoes/cepim\" onclick=\"window.open(\\'/sancoes/cepim\\', \\'_self\\')\">Cadastro de Entidades Privadas sem Fins Lucrativos Impedidas (CEPIM)</a></li>\\n                                <li><a href=\"/sancoes/ceaf\" onclick=\"window.open(\\'/sancoes/ceaf\\', \\'_self\\')\">Cadastro de Expulsões da Administração Federal (CEAF)</a></li>\\n                                <li><a href=\"/sancoes/acordos-leniencia\" onclick=\"window.open(\\'/sancoes/acordos-leniencia\\', \\'_self\\')\">Acordos de leniência</a></li>\\n                            </ul>\\n                        </li>\\n                    </ul>\\n                </li>\\n                <li role=\"menuitem\" aria-haspopup=\"true\" class=\"has-submenu\">\\n                    <a href=\"#\">Controle social</a>\\n                    <ul role=\"menu\" aria-hidden=\"true\" aria-haspopup=\"true\" class=\"is-submenu\">\\n                        <!-- TODO Dennys mudar a referência pra página definitiva -->\\n                        <li role=\"menuitem\"><a href=\"/brasiltransparente\" onclick=\"window.open(\\'/brasiltransparente\\', \\'_self\\')\">Escala Brasil Transparente - Avaliação 360°</a></li>\\n                        <li role=\"menuitem\"><a href=\"/pagina-interna/603399-controle-social\" onclick=\"window.open(\\'/pagina-interna/603399-controle-social\\', \\'_self\\')\">Controle social</a></li>\\n                        <li role=\"menuitem\"><a href=\"/controle-social/o-portal-como-ferramenta\" onclick=\"window.open(\\'/controle-social/o-portal-como-ferramenta\\', \\'_self\\')\">O Portal como ferramenta</a></li>\\n                        <li role=\"menuitem\"><a href=\"http://www.acessoainformacao.gov.br/\" onclick=\"window.open(\\'http://www.acessoainformacao.gov.br/\\', \\'_self\\')\">Acesso à informação</a></li>\\n                        <li role=\"menuitem\"><a href=\"http://governoaberto.cgu.gov.br/\" onclick=\"window.open(\\'http://governoaberto.cgu.gov.br/\\', \\'_self\\')\">Governo Aberto</a></li>\\n                    </ul>\\n                </li>\\n                <li role=\"menuitem\"><a href=\"/redetransparencia\" onclick=\"window.open(\\'/redetransparencia\\', \\'_self\\')\">Rede de Transparência</a></li>\\n                <li role=\"menuitem\"><a href=\"/notificacoes\" onclick=\"window.open(\\'/notificacoes\\', \\'_self\\')\">Receba Notificações</a></li>\\n                <li role=\"menuitem\" aria-haspopup=\"true\" class=\"has-submenu\">\\n                    <a href=\"#\">Aprenda mais</a>\\n                    <ul role=\"menu\" aria-hidden=\"true\" aria-haspopup=\"true\" class=\"is-submenu\">\\n                        <li role=\"menuitem\" class=\"has-submenu submenu--right\" aria-haspopup=\"true\">\\n                            <a href=\"#\">Entenda a gestão pública</a>\\n                            <ul role=\"menu\" aria-hidden=\"true\">\\n                                <li><a href=\"/entenda-a-gestao-publica/orcamento-publico\" onclick=\"window.open(\\'/entenda-a-gestao-publica/orcamento-publico\\', \\'_self\\')\">Orçamento público</a></li>\\n                                <li><a href=\"/entenda-a-gestao-publica/execucao-receita-publica\" onclick=\"window.open(\\'/entenda-a-gestao-publica/execucao-receita-publica\\', \\'_self\\')\">Execução da receita pública</a></li>\\n                                <li><a href=\"/entenda-a-gestao-publica/execucao-despesa-publica\" onclick=\"window.open(\\'/entenda-a-gestao-publica/execucao-despesa-publica\\', \\'_self\\')\">Execução da despesa pública</a></li>\\n                                <li><a href=\"/entenda-a-gestao-publica/programas-de-governo\" onclick=\"window.open(\\'/entenda-a-gestao-publica/programas-de-governo\\', \\'_self\\')\">Programas de Governo</a></li>\\n                                <li><a href=\"/entenda-a-gestao-publica/beneficios-ao-cidadao\" onclick=\"window.open(\\'/entenda-a-gestao-publica/beneficios-ao-cidadao\\', \\'_self\\')\">Benefícios ao cidadão</a></li>\\n                                <li><a href=\"/entenda-a-gestao-publica/servidores-publicos\" onclick=\"window.open(\\'/entenda-a-gestao-publica/servidores-publicos\\', \\'_self\\')\">Servidores públicos</a></li>\\n                                <li><a href=\"/entenda-a-gestao-publica/licitacoes-e-contratacoes\" onclick=\"window.open(\\'/entenda-a-gestao-publica/licitacoes-e-contratacoes\\', \\'_self\\')\">Licitações e contratações</a></li>\\n                                <li><a href=\"/entenda-a-gestao-publica/convenios-e-outros-acordos\" onclick=\"window.open(\\'/entenda-a-gestao-publica/convenios-e-outros-acordos\\', \\'_self\\')\">Convênios e outros acordos</a></li>\\n                                <li><a href=\"/entenda-a-gestao-publica/sancoes-aplicadas\" onclick=\"window.open(\\'/entenda-a-gestao-publica/sancoes-aplicadas\\', \\'_self\\')\">Sanções aplicadas</a></li>\\n                            </ul>\\n                        </li>\\n                        <li role=\"menuitem\"><a href=\"/usando-o-portal\" onclick=\"window.open(\\'/usando-o-portal\\', \\'_self\\')\">Usando o portal</a></li>\\n                        <li role=\"menuitem\"><a href=\"/perguntas-frequentes\" onclick=\"window.open(\\'/perguntas-frequentes\\', \\'_self\\')\">Perguntas frequentes</a></li>\\n                        <li role=\"menuitem\"><a href=\"/glossario\" onclick=\"window.open(\\'/glossario\\', \\'_self\\')\">Glossário</a></li>\\n                        <li role=\"menuitem\"><a href=\"/videos\" onclick=\"window.open(\\'/videos\\', \\'_self\\')\">Vídeos</a></li>\\n                    </ul>\\n                </li>\\n            </ul>\\n        </div>\\n    </div>\\n</nav></header>\\n\\n<main role=\"main\">\\n\\n<section class=\"box-identificacao\">\\n    <div class=\"container\">\\n        <span class=\"breadcrumb\">\\n                    <strong>Você está aqui:</strong>\\n                    <span typeof=\"v:Breadcrumb\">\\n                        <a href=\"/\" rel=\"v:url\" property=\"v:title\">Início</a>\\n                    </span>\\n                            <span typeof=\"v:Breadcrumb\"> » <a href=\"/contratos\" rel=\"v:url\" property=\"v:title\">Contratos</a></span>\\n                            » <strong class=\"breadcrumb-atual\" property=\"v:title\">Detalhamento dos Contratos</strong>\\n                </span>\\n    </div>\\n    <hr>\\n\\n        <div class=\"container\">\\n            <div class=\"row\">\\n                <div class=\"col-md-9\">\\n                    <h2>Detalhamento do contrato</h2>\\n                </div>\\n                <div class=\"col-md-3\" id=\"divButtonOrigemDados\">\\n                        <a href=\"/origem-dos-dados\" role=\"button\">Origem dos dados</a>\\n                </div>\\n            </div>\\n        </div>\\n</section>\\n    <div id=\"aconteudo\" class=\"container\">\\n<div class=\"row\">\\n    <div class=\"col-xs-12\">\\n        <div id=\"alerts\" class=\"floating-alerts\">\\n            \\n\\n\\n\\n        </div>\\n    </div>\\n</div>\\n    </div>\\n\\n\\n<div class=\"container\">\\n    <div class=\"row box-tabela-filtro\">\\n<div id=\"id-box-filtro\" class=\"box-tabela-filtro-coluna-1 col-sm-2\">\\n    <div role=\"form\" class=\"box-tabela-filtro__form-filtro\">\\n        <div>\\n            <legend>Formulário de filtro da tabela</legend>\\n            <h3 class=\"box-tabela-filtro__titulo\">Filtro</h3>\\n            <button type=\"button\" class=\"botao-fechar-filtro\">\\n                <i class=\"fa fa-angle-double-left\" aria-hidden=\"true\"></i>\\n            </button>\\n            <ul class=\"box-tabela-filtro__lista-botoes\">\\n        <li>\\n        <div class=\"box-tabela-filtro__gaveta\">\\n            <button class=\"box-tabela-filtro__botao\" type=\"button\" >Busca livre</button>\\n            <div class=\"gaveta\">\\n                <div class=\"wrapper-gaveta\">\\n                    <div class=\"gaveta__topo\">\\n                        <button type=\"button\" class=\"gaveta__botao-voltar\">\\n                            <i class=\"fa fa-angle-double-left\" aria-hidden=\"true\"></i>\\n                        </button>\\n                        <strong>Busca livre</strong>\\n\\n                            <p>Utilize esse campo para pesquisar o termo desejado em todos os demais campos textuais de busca relacionados a esta tela</p>\\n                    </div>\\n                    <div class=\"gaveta__corpo\" data-gaveta-of=\"\">\\n                        <div class=\"floating-alerts alertsGaveta\" style=\"display: none\">\\n                            <div class=\"alert alert-warning fade in alert-dismissible\" role=\"alert\">\\n                                <span></span>\\n                            </div>\\n                        </div>\\n                        <i class=\"fa fa-circle-o-notch fa-spin loading-grande\" style=\"display:none\"></i>\\n                <div class=\"form-group\">\\n                    <label for=\"palavraChave\" class=\"sr-only\">Busca livre</label>\\n                    <input type=\"text\" id=\"palavraChave\" name=\"palavraChave\" data-descricao-filtro=\"Busca livre\" value=\"\" />\\n                </div>\\n                            <input type=\"button\" value=\"Adicionar\" class=\"btn-adicionar btn-gaveta-consultar\" >\\n                    </div>\\n                </div>\\n            </div>\\n        </div>\\n        </li>\\n\\n\\n        <li>\\n        <div class=\"box-tabela-filtro__gaveta\">\\n            <button class=\"box-tabela-filtro__botao\" type=\"button\" >Período Vigência</button>\\n            <div class=\"gaveta\">\\n                <div class=\"wrapper-gaveta\">\\n                    <div class=\"gaveta__topo\">\\n                        <button type=\"button\" class=\"gaveta__botao-voltar\">\\n                            <i class=\"fa fa-angle-double-left\" aria-hidden=\"true\"></i>\\n                        </button>\\n                        <strong>Período Vigência</strong>\\n\\n                    </div>\\n                    <div class=\"gaveta__corpo\" data-gaveta-of=\"\">\\n                        <div class=\"floating-alerts alertsGaveta\" style=\"display: none\">\\n                            <div class=\"alert alert-warning fade in alert-dismissible\" role=\"alert\">\\n                                <span></span>\\n                            </div>\\n                        </div>\\n                        <i class=\"fa fa-circle-o-notch fa-spin loading-grande\" style=\"display:none\"></i>\\n                <div class=\"form-group\">\\n                    <label for=\"de\">Início</label>\\n                    <input type=\"text\" id=\"de\" name=\"de\" class=\"form-control datepicker-dia\" placeholder=\"Informe uma data\" value=\"01/01/2019\" data-descricao-filtro=\"Período Vigência de\">\\n                </div>\\n                <div class=\"form-group\">\\n                    <label for=\"ate\">Fim</label>\\n                    <input type=\"text\" id=\"ate\" name=\"ate\" class=\"form-control datepicker-dia\" placeholder=\"Informe uma data\" value=\"29/01/2019\" data-descricao-filtro=\"Período Vigência até\">\\n                </div>\\n                            <input type=\"button\" value=\"Adicionar\" class=\"btn-adicionar btn-gaveta-consultar\" >\\n                    </div>\\n                </div>\\n            </div>\\n        </div>\\n        </li>\\n\\n\\n        <li>\\n        <div class=\"box-tabela-filtro__gaveta\">\\n            <button class=\"box-tabela-filtro__botao\" type=\"button\" >Período Assinatura Contrato</button>\\n            <div class=\"gaveta\">\\n                <div class=\"wrapper-gaveta\">\\n                    <div class=\"gaveta__topo\">\\n                        <button type=\"button\" class=\"gaveta__botao-voltar\">\\n                            <i class=\"fa fa-angle-double-left\" aria-hidden=\"true\"></i>\\n                        </button>\\n                        <strong>Período Assinatura Contrato</strong>\\n\\n                    </div>\\n                    <div class=\"gaveta__corpo\" data-gaveta-of=\"\">\\n                        <div class=\"floating-alerts alertsGaveta\" style=\"display: none\">\\n                            <div class=\"alert alert-warning fade in alert-dismissible\" role=\"alert\">\\n                                <span></span>\\n                            </div>\\n                        </div>\\n                        <i class=\"fa fa-circle-o-notch fa-spin loading-grande\" style=\"display:none\"></i>\\n                <div class=\"form-group\">\\n                    <label for=\"assinaturaDe\">Início</label>\\n                    <input type=\"text\" id=\"assinaturaDe\" name=\"assinaturaDe\" class=\"form-control datepicker-dia\" placeholder=\"Informe uma data\" value=\"\" data-descricao-filtro=\"Período assinatura de\">\\n                </div>\\n                <div class=\"form-group\">\\n                    <label for=\"assinaturaAte\">Fim</label>\\n                    <input type=\"text\" id=\"assinaturaAte\" name=\"assinaturaAte\" class=\"form-control datepicker-dia\" placeholder=\"Informe uma data\" value=\"\" data-descricao-filtro=\"Período assinatura até\">\\n                </div>\\n                            <input type=\"button\" value=\"Adicionar\" class=\"btn-adicionar btn-gaveta-consultar\" >\\n                    </div>\\n                </div>\\n            </div>\\n        </div>\\n        </li>\\n\\n\\n        <li>\\n        <div class=\"box-tabela-filtro__gaveta\">\\n            <button class=\"box-tabela-filtro__botao\" type=\"button\" >Órgão/Entidade Contratante</button>\\n            <div class=\"gaveta\">\\n                <div class=\"wrapper-gaveta\">\\n                    <div class=\"gaveta__topo\">\\n                        <button type=\"button\" class=\"gaveta__botao-voltar\">\\n                            <i class=\"fa fa-angle-double-left\" aria-hidden=\"true\"></i>\\n                        </button>\\n                        <strong>Órgão/Entidade Contratante</strong>\\n\\n                    </div>\\n                    <div class=\"gaveta__corpo\" data-gaveta-of=\"\">\\n                        <div class=\"floating-alerts alertsGaveta\" style=\"display: none\">\\n                            <div class=\"alert alert-warning fade in alert-dismissible\" role=\"alert\">\\n                                <span></span>\\n                            </div>\\n                        </div>\\n                        <i class=\"fa fa-circle-o-notch fa-spin loading-grande\" style=\"display:none\"></i>\\n        <label for=\"orgaos\" class=\"sr-only\">Órgão/Entidade Contratante</label>\\n        <input type=\"text\" id=\"orgaos\" name=\"orgaos\" data-descricao-campos-consolidados=\"Órgão,Unidade Gestora,Órgão Superior\" data-prefixos-campos-consolidados=\"OR,UG,OS\" data-campos-consolidados=\"orgao,unidadeGestora,orgaoSuperior\" data-autocomplete-tipo=\"orgaos/orgao,unidadeGestora,orgaoSuperior\" data-descricao-filtro=\"Órgão/Entidade Contratante\" value=\"\">\\n        <div class=\"footer-item-filtro\">\\n            <p>\\n                <small>Máximo 30 itens</small>\\n            </p>\\n        </div>\\n                            <input type=\"button\" value=\"Adicionar\" class=\"btn-adicionar btn-gaveta-consultar\" >\\n                    </div>\\n                </div>\\n            </div>\\n        </div>\\n        </li>\\n\\n\\n        <li>\\n        <div class=\"box-tabela-filtro__gaveta\">\\n            <button class=\"box-tabela-filtro__botao\" type=\"button\" >Forma de Contratação</button>\\n            <div class=\"gaveta\">\\n                <div class=\"wrapper-gaveta\">\\n                    <div class=\"gaveta__topo\">\\n                        <button type=\"button\" class=\"gaveta__botao-voltar\">\\n                            <i class=\"fa fa-angle-double-left\" aria-hidden=\"true\"></i>\\n                        </button>\\n                        <strong>Forma de Contratação</strong>\\n\\n                    </div>\\n                    <div class=\"gaveta__corpo\" data-gaveta-of=\"formaDeContratacao\">\\n                        <div class=\"floating-alerts alertsGaveta\" style=\"display: none\">\\n                            <div class=\"alert alert-warning fade in alert-dismissible\" role=\"alert\">\\n                                <span></span>\\n                            </div>\\n                        </div>\\n                        <i class=\"fa fa-circle-o-notch fa-spin loading-grande\" style=\"display:none\"></i>\\n        <select id=\"formaDeContratacao\" name=\"formaDeContratacao\" title=\"Forma de Contratação\" multiple=\"multiple\" data-multiselect-tipo=\"contratos/forma-de-contratacao\" data-descricao-filtro=\"Forma de Contratação\" style=\"display: none\">\\n        </select>\\n                    </div>\\n                </div>\\n            </div>\\n        </div>\\n        </li>\\n\\n\\n        <li>\\n        <div class=\"box-tabela-filtro__gaveta\">\\n            <button class=\"box-tabela-filtro__botao\" type=\"button\" >Grupo de Objeto de Contratação</button>\\n            <div class=\"gaveta\">\\n                <div class=\"wrapper-gaveta\">\\n                    <div class=\"gaveta__topo\">\\n                        <button type=\"button\" class=\"gaveta__botao-voltar\">\\n                            <i class=\"fa fa-angle-double-left\" aria-hidden=\"true\"></i>\\n                        </button>\\n                        <strong>Grupo de Objeto de Contratação</strong>\\n\\n                    </div>\\n                    <div class=\"gaveta__corpo\" data-gaveta-of=\"grupoObjeto\">\\n                        <div class=\"floating-alerts alertsGaveta\" style=\"display: none\">\\n                            <div class=\"alert alert-warning fade in alert-dismissible\" role=\"alert\">\\n                                <span></span>\\n                            </div>\\n                        </div>\\n                        <i class=\"fa fa-circle-o-notch fa-spin loading-grande\" style=\"display:none\"></i>\\n        <select id=\"grupoObjeto\" name=\"grupoObjeto\" title=\"Grupo de Objeto de Contratação\" multiple=\"multiple\" data-multiselect-tipo=\"contratos/grupo-objeto\" data-descricao-filtro=\"Grupo de Objeto de Contratação\" style=\"display: none\">\\n        </select>\\n                    </div>\\n                </div>\\n            </div>\\n        </div>\\n        </li>\\n\\n\\n        <li>\\n        <div class=\"box-tabela-filtro__gaveta\">\\n            <button class=\"box-tabela-filtro__botao\" type=\"button\" >Fornecedor</button>\\n            <div class=\"gaveta\">\\n                <div class=\"wrapper-gaveta\">\\n                    <div class=\"gaveta__topo\">\\n                        <button type=\"button\" class=\"gaveta__botao-voltar\">\\n                            <i class=\"fa fa-angle-double-left\" aria-hidden=\"true\"></i>\\n                        </button>\\n                        <strong>Fornecedor</strong>\\n\\n                    </div>\\n                    <div class=\"gaveta__corpo\" data-gaveta-of=\"\">\\n                        <div class=\"floating-alerts alertsGaveta\" style=\"display: none\">\\n                            <div class=\"alert alert-warning fade in alert-dismissible\" role=\"alert\">\\n                                <span></span>\\n                            </div>\\n                        </div>\\n                        <i class=\"fa fa-circle-o-notch fa-spin loading-grande\" style=\"display:none\"></i>\\n        <label for=\"fornecedor\" class=\"sr-only\">Fornecedor</label>\\n        <input type=\"text\" id=\"fornecedor\" name=\"fornecedor\" data-autocomplete-tipo=\"contratos/fornecedor\" data-descricao-filtro=\"Fornecedor\" placeholder=\"\" value=\"\">\\n        <div class=\"footer-item-filtro\">\\n            <p>\\n                <small>Máximo 30 itens</small>\\n            </p>\\n        </div>\\n                            <input type=\"button\" value=\"Adicionar\" class=\"btn-adicionar btn-gaveta-consultar\" >\\n                    </div>\\n                </div>\\n            </div>\\n        </div>\\n        </li>\\n\\n\\n        <li>\\n        <div class=\"box-tabela-filtro__gaveta\">\\n            <button class=\"box-tabela-filtro__botao\" type=\"button\" >Número contrato</button>\\n            <div class=\"gaveta\">\\n                <div class=\"wrapper-gaveta\">\\n                    <div class=\"gaveta__topo\">\\n                        <button type=\"button\" class=\"gaveta__botao-voltar\">\\n                            <i class=\"fa fa-angle-double-left\" aria-hidden=\"true\"></i>\\n                        </button>\\n                        <strong>Número contrato</strong>\\n\\n                            <p>Procure aqui por número do contrato</p>\\n                    </div>\\n                    <div class=\"gaveta__corpo\" data-gaveta-of=\"\">\\n                        <div class=\"floating-alerts alertsGaveta\" style=\"display: none\">\\n                            <div class=\"alert alert-warning fade in alert-dismissible\" role=\"alert\">\\n                                <span></span>\\n                            </div>\\n                        </div>\\n                        <i class=\"fa fa-circle-o-notch fa-spin loading-grande\" style=\"display:none\"></i>\\n                <div class=\"form-group\">\\n                    <label for=\"numeroContrato\" class=\"sr-only\">Número do Contrato</label>\\n                    <input type=\"text\" id=\"numeroContrato\" name=\"numeroContrato\" data-descricao-filtro=\"Número do Contrato\" value=\"\" />\\n                </div>\\n                            <input type=\"button\" value=\"Adicionar\" class=\"btn-adicionar btn-gaveta-consultar\" >\\n                    </div>\\n                </div>\\n            </div>\\n        </div>\\n        </li>\\n\\n\\n        <li>\\n        <div class=\"box-tabela-filtro__gaveta\">\\n            <button class=\"box-tabela-filtro__botao\" type=\"button\" >Situação</button>\\n            <div class=\"gaveta\">\\n                <div class=\"wrapper-gaveta\">\\n                    <div class=\"gaveta__topo\">\\n                        <button type=\"button\" class=\"gaveta__botao-voltar\">\\n                            <i class=\"fa fa-angle-double-left\" aria-hidden=\"true\"></i>\\n                        </button>\\n                        <strong>Situação</strong>\\n\\n                    </div>\\n                    <div class=\"gaveta__corpo\" data-gaveta-of=\"situacao\">\\n                        <div class=\"floating-alerts alertsGaveta\" style=\"display: none\">\\n                            <div class=\"alert alert-warning fade in alert-dismissible\" role=\"alert\">\\n                                <span></span>\\n                            </div>\\n                        </div>\\n                        <i class=\"fa fa-circle-o-notch fa-spin loading-grande\" style=\"display:none\"></i>\\n        <select id=\"situacao\" name=\"situacao\" title=\"Situação\" multiple=\"multiple\" data-multiselect-tipo=\"contratos/situacao\" data-descricao-filtro=\"Situação\" style=\"display: none\">\\n        </select>\\n                    </div>\\n                </div>\\n            </div>\\n        </div>\\n        </li>\\n\\n\\n        <li>\\n        <div class=\"box-tabela-filtro__gaveta\">\\n            <button class=\"box-tabela-filtro__botao\" type=\"button\" >Valor Contratado</button>\\n            <div class=\"gaveta\">\\n                <div class=\"wrapper-gaveta\">\\n                    <div class=\"gaveta__topo\">\\n                        <button type=\"button\" class=\"gaveta__botao-voltar\">\\n                            <i class=\"fa fa-angle-double-left\" aria-hidden=\"true\"></i>\\n                        </button>\\n                        <strong>Valor Contratado</strong>\\n\\n                            <p>Digite a quantidade do valor que deseja aplicar na tabela ao lado</p>\\n                    </div>\\n                    <div class=\"gaveta__corpo\" data-gaveta-of=\"\">\\n                        <div class=\"floating-alerts alertsGaveta\" style=\"display: none\">\\n                            <div class=\"alert alert-warning fade in alert-dismissible\" role=\"alert\">\\n                                <span></span>\\n                            </div>\\n                        </div>\\n                        <i class=\"fa fa-circle-o-notch fa-spin loading-grande\" style=\"display:none\"></i>\\n                <div class=\"form-group\">\\n                    <label for=\"valor\">De</label>\\n                    <input type=\"text\" id=\"valorDe\" name=\"valorDe\" class=\"mask-real\" value=\"0,00\"\\n                           data-descricao-filtro=\"Valor de\" data-binder-filtro=\"valor\">\\n                </div>\\n                <div class=\"form-group\">\\n                    <label for=\"valorAte\">Até</label>\\n                    <input type=\"text\" id=\"valorAte\" name=\"valorAte\" class=\"mask-real\" value=\"0,00\"\\n                           data-descricao-filtro=\"Valor até\" data-binder-filtro=\"valor\">\\n                </div>\\n                            <input type=\"button\" value=\"Adicionar\" class=\"btn-adicionar btn-gaveta-consultar\" >\\n                    </div>\\n                </div>\\n            </div>\\n        </div>\\n        </li>\\n\\n\\n            </ul>\\n        </div>\\n    </div>\\n</div>\\n\\n        <div class=\"box-tabela-filtro-coluna-2 col-sm-10\">\\n<button id=\"idFiltroBotao\" class=\"botao-filtro ativo\" type=\"button\"><i class=\"fa fa-angle-double-left\" aria-hidden=\"true\"></i>\\nOCULTAR FILTROS DE CONSULTA\\n</button>\\n\\n<section class=\"box-detalhamento--tipo-b\">\\n\\n<button id=\"btn-section-filtros-aplicados\" class=\"grafico-tabela__botao-collapse\" data-toggle=\"collapse\" data-target=\"#box-filtros-aplicados-com-botao\" aria-expanded=\"true\" type=\"button\">\\n    <i class=\"fa fa-fw fa-minus-square-o\"></i>\\n    <i class=\"fa fa-fw fa-plus-square-o\"></i>\\n    Filtros aplicados:\\n</button>\\n<div id=\"box-filtros-aplicados-com-botao\">\\n    <div id=\"box-filtros-aplicados\" class=\"box-tabela-completa__tags collapse in\"></div>\\n    <p style=\"text-align: right\">\\n        <button type=\"button\" class=\"btn-consultar btn-filtros-aplicados-consultar\" data-toggle=\"tooltip\" data-placement=\"top\" data-original-title=\"Clique aqui para atualizar o resultado da pesquisa\">Atualizar</button>\\n    </p>\\n</div>\\n</section>\\n\\n            <div id=\"datas\" style=\"margin-bottom: -30px!important;\">\\n                <strong>Dados atualizados até: </strong>14/12/2018\\n            </div>\\n\\n        <h2 class=\"box-padrao__titulo--com-margem\">Tabela de dados</h2>\\n    <div class=\"grafico-tabela box-tabela-completa\">\\n\\n        <ul class=\"box-tabela-completa__opcoes\">\\n            <li><a href=\"#\" role=\"button\" onclick=\"window.print();\"><i class=\"fa fa-fw fa-print\"></i> Imprimir</a></li>\\n                <li><a href=\"#\" role=\"button\" id=\"btnBaixar\" data-toggle=\"modal\"><i class=\"fa fa-fw fa-download\"></i> Baixar</a> </li>\\n                <li>\\n                    <a href=\"#\" role=\"button\" id=\"ocultar-colunas-3\" data-toggle=\"dropdown\" aria-haspopup=\"true\" aria-expanded=\"false\">\\n                        <i class=\"fa fa-fw fa-columns\"></i>\\n                        <span data-toggle=\"tooltip\" data-container=\"body\"\\n                              title=\"Adiciona ou remove a visualização de colunas da tabela somando os valores caso se aplique.\">\\n                            Remover/Adicionar Colunas\\n                        </span>\\n                    </a>\\n                    <ul class=\"dropdown-menu dropdown-menu-agregar-adicionar\" aria-labelledby=\"ocultar-colunas-3\">\\n                        <li></li>\\n                    </ul>\\n                </li>\\n                <li>\\n                    <a href=\"/contratos\" role=\"button\">\\n                        <i class=\"fa fa-fw fa-chevron-circle-left\"></i> Painel Contratos\\n                    </a>\\n                </li>\\n                <li class=\"pull-right\">\\n                    <a href=\"#avisualizacao-grafica\" role=\"button\">\\n                        <i class=\"fa fa-fw fa-chevron-circle-down\"></i>Visualização gráfica\\n                    </a>\\n                </li>\\n        </ul>\\n\\n        <div class=\"wrapper-table\">\\n\\n            <div class=\"spinner-container loading-grande\" id=\"spinner\" style=\"display:none; margin: 50px 50% 500px\">\\n                <i class=\"fa fa-circle-o-notch fa-spin\"></i>\\n                <span class=\"spinner-text\" style=\"font-size: .35em; margin: 10px -110px; display: block; text-align: left; white-space: nowrap;\">\\n                    Esta consulta pode demorar alguns minutos\\n                </span>\\n            </div>\\n\\n            <table id=\"lista\">\\n            </table>\\n        </div>\\n\\n    </div>\\n\\n    <div class=\"modal fade\" tabindex=\"-1\" id=\"baixarModal\" role=\"dialog\">\\n        <div class=\"modal-dialog\" role=\"document\">\\n            <div class=\"modal-content\">\\n                <div class=\"modal-header\">\\n                    <button type=\"button\" class=\"close\" data-dismiss=\"modal\" aria-label=\"Close\">\\n                        <span aria-hidden=\"true\">&times;</span></button>\\n                    <div class=\"modal-title\"><span><i class=\"glyphicon glyphicon-warning-sign\"></i> Aviso</span></div>\\n                </div>\\n                <div class=\"modal-body\">\\n                    <div role=\"form\" id=\"baixarForm\">\\n                        <div class=\"form-group\">\\n                            <p>\\n                                O download da tabela de dados é limitado a 1000 registros. Refaça sua consulta utilizando\\n                                os filtros disponíveis ou realize o download completo em\\n                                <a href=\"/download-de-dados\">Sobre o portal > Dados do Portal > Dados abertos</a>.\\n                            </p>\\n                        </div>\\n                    </div>\\n                </div>\\n            </div>\\n        </div>\\n    </div>\\n\\n<script>\\n    $(function(){\\n        window.visualizadorGraficoTabela = new VisualizacaoGraficaTabela(springUrl + \"contratos/consulta\")\\n    });\\n</script>\\n    <h2 id=\"avisualizacao-grafica\" class=\"box-padrao__titulo--com-margem\">Visualização gráfica\\n        <button class=\"grafico-visualizar__botao-collapse\" data-toggle=\"collapse\" data-target=\"#box-visualizacao-grafica\"\\n            aria-expanded=\"true\" aria-controls=\"box-visualizacao-grafica\" type=\"button\">\\n            <i class=\"fa fa-fw fa-minus-square-o\"></i>\\n            <i class=\"fa fa-fw fa-plus-square-o\"></i>\\n        </button>\\n    </h2>\\n\\n    <div id=\"box-visualizacao-grafica\" class=\"row collapse out in\">\\n\\n        <div class=\"col-sm-12\">\\n\\n            <p>Crie o gráfico desejado a partir das opções abaixo.</p>\\n            <p>Selecione o tipo de dado para agrupamento das informações e o tipo de gráfico desejado e clique no botão \"Gerar Gráfico\".</p>\\n\\n            <div class=\"col-sm-12 col-md-4\">\\n\\n                <div class=\"box-opcoes-grafico\">\\n                <p class=\"box-opcoes-grafico__descricao\">\\n                    Utilize os campos abaixo para selecionar como deseja visualizar os dados graficamente\\n                </p>\\n\\n                <form class=\"formulario-selecao-grafico\" action=\"\" method=\"post\" onsubmit=\"return false;\">\\n                    <fieldset>\\n                        <legend>Formulário de seleção de gráficos</legend>\\n\\n                        <input id=\"visualizacao-grafica-funcionalidade\" type=\"hidden\" value=\"contratos\">\\n\\n\\n                        <div class=\"form-group\" >\\n                            <label for=\"visualizacao-grafica-assunto\">Tipo de Dados</label>\\n                            <select id=\"visualizacao-grafica-assunto\" name=\"descricao\">\\n                                    <option value=\"orgaoSuperior\">Órgão superior</option>\\n                                    <option value=\"orgaoEntidadeVinculada\">Órgão/entidade vinculada</option>\\n                                    <option value=\"formaContratacao\">Forma de Contratação</option>\\n                                    <option value=\"nomeFornecedor\">Nome do Fornecedor</option>\\n                                    <option value=\"cpfCnpjFornecedor\">CPF / CNPJ do Fornecedor</option>\\n                                    <option value=\"situacao\">Situação</option>\\n                            </select>\\n                        </div>\\n\\n                        <div class=\"form-group\" style=\"display: none;\">\\n                            <label for=\"visualizacao-grafica-numeral\">Valor apresentado</label>\\n                            <select id=\"visualizacao-grafica-numeral\" name=\"numeral\">\\n                                        <option value=\\'[\"valorContratado\", \"moeda\"]\\'>Valor</option>\\n                            </select>\\n                        </div>\\n                        <div class=\"form-group\">\\n                            <label for=\"lista-tipos-graficos\">Tipo de gráfico</label>\\n                            <ul id=\"lista-tipos-graficos\" class=\"box-opcoes-grafico__lista-graficos\">\\n                                <li>\\n                                    <input type=\"radio\" id=\"grafico-pizza\" name=\"grafico\" value=\"grafico-pizza\"\\n                                           checked=\"checked\">\\n                                    <label for=\"grafico-pizza\">PIZZA</label>\\n                                </li>\\n                                <li>\\n                                    <input type=\"radio\" id=\"grafico-donut\" name=\"grafico\" value=\"grafico-donut\">\\n                                    <label for=\"grafico-donut\">ROSCA</label>\\n                                </li>\\n                                <li>\\n                                    <input type=\"radio\" id=\"grafico-barras-vertical\" name=\"grafico\"\\n                                           value=\"grafico-barras-vertical\">\\n                                    <label for=\"grafico-barras-vertical\">BARRAS</label>\\n                                </li>\\n                                <li>\\n                                    <input type=\"radio\" id=\"grafico-treemap\" name=\"grafico\"\\n                                           value=\"grafico-treemap\">\\n                                    <label for=\"grafico-treemap\">TREEMAP</label>\\n                                </li>\\n                            </ul>\\n                        </div>\\n                        <input type=\"submit\" id=\"btnGerarGrafico\" value=\"Gerar Gráfico\">\\n                    </fieldset>\\n                </form>\\n            </div>\\n            </div>\\n\\n            <div class=\"box-opcoes-grafico-visualizador col-sm-12 col-md-8\" >\\n                <i class=\"fa fa-circle-o-notch fa-spin loading-grande\" style=\"display:none\"></i>\\n                <div class=\"box-grafico-donut grafico-tabela proximo-passo-costas\" id=\"grafico-generico\">\\n                    <div class=\"proximo-passo__box-titulo\">\\n                        <h3 class=\"proximo-passo__titulo\"><span id=\"tituloGrafico\">Gráfico</span></h3>\\n                    </div>\\n\\n                    <div class=\"grafico-modal\">\\n                        <div class=\"grafico-receptor\"></div>\\n                        <div class=\"grafico-legenda\">\\n                            <div class=\"row\">\\n                                <div class=\"col-xs-12 col-sm-6 coluna-1\"></div>\\n                                <div class=\"col-xs-12 col-sm-6 coluna-2\"></div>\\n                            </div>\\n                        </div>\\n                    </div>\\n\\n                    <div class=\"grafico-rodape\">\\n                        <button type=\"button\" class=\"botao-icone botao-ampliar\"><i class=\"fa fa-expand\"></i> Ampliar</button>\\n                        <a class=\"botao-icone botao-incorporar\" href=\"#\"><i class=\"fa fa-code\"></i> Incorporar</a>\\n                    </div>\\n                </div>\\n            </div>\\n        </div>\\n    </div>\\n        </div>\\n    </div>\\n</div>\\n\\n</main>\\n\\n\\n<div class=\"sessao-duvidas\" id=\"duvidas\">\\n    <section class=\"container\">\\n        <div class=\"box-duvidas compacto\">\\n            <button id=\"btnDuvidas\" type=\"button\" class=\"box-duvidas__botao-duvida\"><i class=\"fa fa-question-circle\"></i> <span>Dúvidas?</span></button>\\n\\n            <div id=\"box-duvidas\" class=\"box-duvidas__box\">\\n                <button id=\"btnFecharBox\" type=\"button\" class=\"botao-fechar-box-duvidas\"><i class=\"fa fa-times\" aria-hidden=\"true\"></i></button>\\n\\n                <div id=\"duvida-passo-1\" class=\"passos ativo\">\\n                    <form class=\"formulario-duvida\" action=\"#\" method=\"post\">\\n                        <fieldset>\\n                            <legend>Formulário de dúvidas</legend>\\n\\n                            <label for=\"duvida-texto\">Qual é sua dúvida?</label>\\n                            <textarea id=\"duvida-texto\" placeholder=\"Digite palavras-chaves da sua dúvida\" cols=\"30\" rows=\"10\" name=\"duvida-texto\"></textarea>\\n\\n                            <input id=\"botaoBuscar\" type=\"submit\" class=\"duvida-enviar botao-info\" value=\"Prosseguir\">\\n                        </fieldset>\\n                    </form>\\n                </div>\\n                <div id=\"duvida-passo-2\" class=\"lista-definicao passos\">\\n\\n\\n                </div>\\n            </div>\\n        </div>\\n    </section>\\n</div>\\n\\n<script>\\n    $(function(){\\n        var interrogacao = new Interrogacao();\\n        interrogacao.inicializar();\\n    });\\n</script>\\n\\n\\n<div id=\"divCompartilhar\">\\n    <div class=\"box-compartilhe\">\\n        <div class=\"container\">\\n            <ul class=\"nav-tabs\" role=\"tablist\">\\n                <li role=\"presentation\" class=\"active\"><a href=\"#tab-compartilhe\" aria-controls=\"tab-compartilhe\" role=\"tab\" data-toggle=\"tab\" aria-expanded=\"true\"><i class=\"fa fa-share-alt\"></i> Compartilhe</a></li>\\n                <li role=\"presentation\" class=\"\"><a href=\"#tab-notificacoes\" aria-controls=\"tab-notificacoes\" role=\"tab\" data-toggle=\"tab\" aria-expanded=\"false\"><i class=\"fa fa-envelope\"></i> Receba notificações</a></li>\\n                <li role=\"presentation\" class=\"\"><a href=\"#tab-contato\" aria-controls=\"tab-contato\" role=\"tab\" data-toggle=\"tab\" aria-expanded=\"false\"><i class=\"fa fa-bullhorn\"></i> Contato</a></li>\\n            </ul>\\n\\n            <div class=\"tab-content\">\\n                <div role=\"tabpanel\" class=\"tab-pane active\" id=\"tab-compartilhe\">\\n                    <div class=\"box-midias-sociais\">\\n                        <span class=\"box-midias-sociais__titulo\">Redes sociais</span>\\n                        <ul>\\n                            <li><a href=\"javascript:Compartilhar.gerarLinkWhatsapp();\"  data-action=\"share/whatsapp/share\" target=\"_blank\"><i class=\"fa fa-whatsapp\"></i><span>Whatsapp</span></a></li>\\n                            <li><a href=\"javascript:Compartilhar.gerarLinkFacebook();\" target=\"_blank\"><i class=\"fa fa-facebook-square\"></i><span>Facebook</span></a></li>\\n                            <li><a href=\"javascript:Compartilhar.gerarLinkTwitter();\" target=\"_blank\"><i class=\"fa fa-twitter-square\"></i><span>Twitter</span></a></li>\\n                            <li><a href=\"javascript:Compartilhar.gerarQRCode();\" target=\"_blank\"><i class=\"fa fa-qrcode\"></i><span>QR Code</span></a></li>\\n                        </ul>\\n                        <div id=\"divQRCode\" style=\"display:none;\"></div>\\n                    </div>\\n\\n                    <div class=\"busca-simples\">\\n\\n                        <label for=\"busca-simples-link\" class=\"sr-only\">Link</label>\\n                        <div class=\"row\">\\n                            <div class=\"col-xs-12 col-sm-8\">\\n                                <input type=\"text\" id=\"busca-simples-link\" name=\"link\" readonly class=\"input100\">\\n                            </div>\\n                            <div class=\"col-xs-12 botoes-compartilhar-link\">\\n                                <button id=\"btnGerarLink\" type=\"button\"  onclick=\"Compartilhar.encurtarURL(false, true);\">Gerar Link</button>\\n                                <button id=\"btnCopiarLink\" type=\"button\" onclick=\"Compartilhar.copiarLink();\">Copiar link</button>\\n                            </div>\\n                        </div>\\n\\n                    </div>\\n                </div>\\n\\n                <div role=\"tabpanel\" class=\"tab-pane\" id=\"tab-notificacoes\">\\n                    <span class=\"box-compartilhe__titulo\">\\n                        Gostaria de receber notificações sobre atualizações de dados do Portal da Transparência?\\n                        <a href=\"/notificacoes\">Cadastre-se aqui</a>.\\n                    </span>\\n                </div>\\n\\n                <div role=\"tabpanel\" class=\"tab-pane\" id=\"tab-contato\">\\n                    <span class=\"box-compartilhe__titulo\">Contato</span>\\n                    <div class=\"row\">\\n                        <div class=\"col-sm-12 col-md-6\">\\n                            <ul class=\"box-compartilhe__lista\">\\n                                <li>\\n                                    <i class=\"fa fa-info-circle\" aria-hidden=\"true\"></i>\\n                                    <a href=\"http://www.acessoainformacao.gov.br/\" target=\"_blank\">Faça um pedido de informação para o Governo Federal</a>\\n                                </li>\\n                                <li>\\n                                    <i class=\"fa fa-bullhorn\" aria-hidden=\"true\"></i>\\n                                    <a href=\"https://sistema.ouvidorias.gov.br/publico/Manifestacao/RegistrarManifestacao.aspx?tipo=1\" target=\"_blank\">Faça uma denúncia</a>\\n                                </li>\\n                            </ul>\\n                        </div>\\n                        <div class=\"col-sm-12 col-md-6\">\\n                            <ul class=\"box-compartilhe__lista\">\\n                                <li><i class=\"fa fa-exclamation-circle\" aria-hidden=\"true\"></i>\\n                                    <a href=\"https://sistema.ouvidorias.gov.br\" target=\"_blank\">Registre suas sugestões, dúvidas e reclamações</a>\\n                                </li>\\n                                <li><i class=\"fa fa-question-circle\" aria-hidden=\"true\"></i> <a href=\"/redetransparencia\" target=\"_blank\">Onde encontrar informações sobre estados e municípios</a></li>\\n                            </ul>\\n                        </div>\\n                    </div>\\n\\n                    <form id=\"formulario-correcao\" class=\"collapse\" action=\"#\" method=\"post\" aria-hidden=\"true\">\\n                        <fieldset>\\n                            <legend>Formulário de correção</legend>\\n\\n                            <div class=\"form-group\">\\n                                <div class=\"row\">\\n                                    <div class=\"col-sm-12\">\\n                                        <label for=\"texto-correcao\" class=\"sr-only\">Texto</label>\\n                                        <textarea id=\"texto-correcao\" cols=\"30\" rows=\"10\" name=\"correcao\"></textarea>\\n                                    </div>\\n                                </div>\\n                            </div>\\n\\n                            <label for=\"sugestoes-email\">Seu e-mail</label>\\n\\n                            <div class=\"row\">\\n                                <div class=\"col-sm-12 col-md-9\">\\n                                    <input type=\"text\" id=\"sugestoes-email\" name=\"sugestoes-email\">\\n                                </div>\\n                                <div class=\"col-sm-12 col-md-3\">\\n                                    <input type=\"submit\" value=\"Enviar correção\">\\n                                </div>\\n                            </div>\\n\\n                        </fieldset>\\n                    </form>\\n                </div>\\n            </div>\\n        </div>\\n    </div>\\n</div>\\n\\n<footer id=\"arodape\" role=\"contentinfo\">\\n    <section class=\"container\">\\n        <button id=\"botao-rodape\" type=\"button\" class=\"btn btn-primary pull-right\">Voltar para o topo <i class=\"fa fa-chevron-circle-up\"></i></button>\\n\\n        <div class=\"row\">\\n            <div class=\"col-12 col-sm-3\">\\n                <h2>Principal</h2>\\n                <ul role=\"list\">\\n                    <li role=\"listitem\"><a href=\"/orgaos\">Panorama do Governo Federal</a></li>\\n                    <li role=\"listitem\"><a href=\"/despesas\">Despesas Públicas</a></li>\\n                    <li role=\"listitem\"><a href=\"/funcoes\">Áreas de atuação do Governo</a></li>\\n                    <li role=\"listitem\"><a href=\"/servidores\">Servidores Públicos</a></li>\\n                    <li role=\"listitem\"><a href=\"/redetransparencia\">Rede de Transparência</a></li>\\n                    <li role=\"listitem\"><a href=\"/notificacoes\">Receba Notificações</a></li>\\n                    <li role=\"listitem\"><a href=\"/download-de-dados\">Dados Abertos</a></li>\\n                </ul>\\n            </div>\\n            <div class=\"col-12 col-sm-3\">\\n                <h2>Educativo</h2>\\n                <ul role=\"list\">\\n                    <li role=\"listitem\"><a href=\"/sobre/o-que-e-e-como-funciona\">O que é e como funciona o Portal</a></li>\\n                    <li role=\"listitem\"><a href=\"/sobre/o-que-voce-encontra-no-portal\">O que você encontra no Portal</a></li>\\n                    <li role=\"listitem\"><a href=\"/entenda-a-gestao-publica/orcamento-publico\">Orçamento Público</a></li>\\n                    <li role=\"listitem\"><a href=\"/usando-o-portal\">Usando o Portal</a></li>\\n                    <li role=\"listitem\"><a href=\"/perguntas-frequentes\">Perguntas frequentes</a></li>\\n                    <li role=\"listitem\"><a href=\"/glossario\">Glossário</a></li>\\n                </ul>\\n            </div>\\n            <div class=\"col-12 col-sm-3\">\\n                <h2>Controle social</h2>\\n                <ul role=\"list\">\\n                    <li role=\"listitem\"><a href=\"/controle-social/o-portal-como-ferramenta\">O Portal como ferramenta</a></li>\\n                    <li role=\"listitem\"><a href=\"http://www.acessoainformacao.gov.br/\">Acesso à Informação</a></li>\\n                </ul>\\n            </div>\\n        </div>\\n    </section>\\n</footer>\\n\\n<div id=\"footer-brasil\"></div>\\n\\n<div id=\"carregando\" style=\"display: none;\">\\n    Carregando... <i class=\"fa fa-refresh girar\"></i>\\n</div>\\n\\n<!--\\n    ARQUIVO ALTERADO CONFORME O AMBIENTE.\\n    PARA ADICIONAR NOVOS ARQUIVOS, INCLUIR NO FILTRO E POM.XML\\n -->\\n<script type=\"text/javascript\" src=\"/static/libs/talk/forms.min.js?v=1.7.1\"></script>\\n<script type=\"text/javascript\" src=\"/static/libs/talk/masks.min.js?v=1.7.1\"></script>\\n<script type=\"text/javascript\" src=\"/static/libs/jquery-qrcode/jquery.qrcode-0.12.0.min.js?v=1.7.1\"></script>\\n<script type=\"text/javascript\" src=\"/static/libs/jquery-validation/jquery.validate.min.js?v=1.7.1\"></script>\\n<script type=\"text/javascript\" src=\"/static/libs/jquery-validation/jquery.validate.options.js?v=1.7.1\"></script>\\n<script type=\"text/javascript\" src=\"/static/libs/speakingurl/speakingurl.min.js?v=1.7.1\"></script>\\n<script type=\"text/javascript\" src=\"/static/js/cgu.js?v=1.7.1\"></script>\\n<script type=\"text/javascript\" src=\"/static/libs/jquery-validation/additional-methods.min.js?v=1.7.1\"></script>\\n<script type=\"text/javascript\" src=\"/static/libs/bootstrap-datepicker/bootstrap-datepicker.min.js?v=1.7.1\"></script>\\n<script type=\"text/javascript\" src=\"/static/libs/bootstrap-datepicker/bootstrap-datepicker.pt-BR.min.js?v=1.7.1\"></script>\\n<script type=\"text/javascript\" src=\"/static/libs/bootstrap/js/bootstrap.min.js?v=1.7.1\"></script>\\n<script type=\"text/javascript\" src=\"/static/js/interrogacao.js?v=1.7.1\"></script>\\n<script type=\"text/javascript\" src=\"/static/js/compartilhar.js?v=1.7.1\"></script>\\n<script type=\"text/javascript\" src=\"/static/libs/cycle2/jquery.cycle2.min.js?v=1.7.1\"></script>\\n<script type=\"text/javascript\" src=\"/static/libs/cycle2/jquery.cycle2.carousel.min.js?v=1.7.1\"></script>\\n<script type=\"text/javascript\" src=\"/static/libs/timeline/jquery.timelineMe.min.js?v=1.7.1\"></script>\\n<script type=\"text/javascript\"> var springUrl = \"/\".split(\";\")[0]; </script>\\n<!--[if lt IE 9]>\\n<script src=\"http://html5shim.googlecode.com/svn/trunk/html5.js\"></script>\\n<meta http-equiv=\"X-UA-Compatible\" content=\"IE=EmulateIE9;\">\\n<![endif]-->\\n<script>\\n\\n    $(function () {\\n\\n        $(window).load(function () {\\n\\n\\n\\n            // FUNÇÃO PARA O COLLAPSE\\n            cgu.element.display();\\n\\n            // FUNÇÃO PARA VALIDAR O FORMULÁRIO\\n            forms.form.validate(\".form-consulta\");\\n        });\\n\\n        cgu.criarDatePickers();\\n        cgu.iniciaTipoConteudoEspecifico();\\n\\n    });\\n\\n</script>\\n\\n<!-- Inclusao dos arquivos JavaScript definidos em cada view -->\\n        <script type=\"text/javascript\" src=\"/static/js/baixar.js?v=1.7.1\"></script>\\n    <script type=\"text/javascript\" src=\"/static/libs/dataTables/jquery.dataTables.js?v=1.7.1\"></script>\\n    <script type=\"text/javascript\" src=\"/static/libs/dataTables/dataTables.bootstrap.js?v=1.7.1\"></script>\\n    <script type=\"text/javascript\" src=\"/static/js/datatables.js?v=1.7.1\"></script>\\n    <script type=\"text/javascript\" src=\"/static/js/GridAgrupavel.js?v=1.7.1\"></script>\\n    <script type=\"text/javascript\" src=\"/static/libs/jquery/jquery.doubleScroll.js?v=1.7.1\"></script>\\n    <link rel=\"stylesheet\" href=\"/static/css/print-table.css?v=1.7.1\" media=\"print\" />\\n<!--\\n    ARQUIVO ALTERADO CONFORME O AMBIENTE.\\n    PARA ADICIONAR NOVOS ARQUIVOS, INCLUIR NO FILTRO E POM.XML\\n -->\\n<script type=\"text/javascript\" src=\"/static/libs/d3/d3.v3.min.js?v=1.7.1\"></script>\\n<script type=\"text/javascript\" src=\"/static/js/graficos/01_graficos.js?v=1.7.1\"></script>\\n<script type=\"text/javascript\" src=\"/static/js/graficos/02_graficoBarrasHorizontais.js?v=1.7.1\"></script>\\n<script type=\"text/javascript\" src=\"/static/js/graficos/03_graficoBarraHorizontalEmpilhada.js?v=1.7.1\"></script>\\n<script type=\"text/javascript\" src=\"/static/js/graficos/04_graficoBarrasVerticais.js?v=1.7.1\"></script>\\n<script type=\"text/javascript\" src=\"/static/js/graficos/05_graficoTreeMap.js?v=1.7.1\"></script>\\n<script type=\"text/javascript\" src=\"/static/js/graficos/06_graficoPizza.js?v=1.7.1\"></script>\\n<script type=\"text/javascript\" src=\"/static/js/graficos/07_graficoBolhas.js?v=1.7.1\"></script>\\n<script type=\"text/javascript\" src=\"/static/js/graficos/08_graficoLinhas.js?v=1.7.1\"></script>\\n<script type=\"text/javascript\" src=\"/static/js/graficos/09_graficoDesvios.js?v=1.7.1\"></script>\\n<script type=\"text/javascript\" src=\"/static/js/graficos/10_tabelaGrafico.js?v=1.7.1\"></script>\\n<script type=\"text/javascript\" src=\"/static/js/graficos/11_incorporar.js?v=1.7.1\"></script>\\n<script type=\"text/javascript\" src=\"/static/js/graficos/12_mapaBrasil.js?v=1.7.1\"></script>\\n<script type=\"text/javascript\" src=\"/static/js/graficos/13_mapaMundi.js?v=1.7.1\"></script>\\n<script type=\"text/javascript\" src=\"/static/js/graficos/14_visualizacaoGraficaTabela.js?v=1.7.1\"></script>\\n<script type=\"text/javascript\" src=\"/static/js/graficos/15_graficoBarraHorizontalNota.js?v=1.7.1\"></script>    <script>\\n            $(function(){\\n                Grafico.ampliar();\\n            });\\n    </script>\\n\\n<script>\\n    var grid;\\n    $(function () {\\n        grid = new GridAgrupavel({\\n            urlBase: springUrl + \"contratos/consulta\"\\n            , seletor: \"#lista\"\\n            , ordem: [[4, \"desc\"]]\\n            , colunas: [\\n                {name: \"linkDetalhamento\", data: \"linkDetalhamento\", title: \"Detalhar\", orderable: false,\\n                    className: \"coluna-livre\", agregar: false,\\n                    render : function (data, type, row) {\\n                        return dataTables.linkFichaDetalhamentoRenderer(springUrl + \"/contratos/\",row.id, \"Detalhar\");\\n                    }\\n                }\\n                , {name: \"dataAssinatura\", data: \"dataAssinatura\", title: \"DATA ASSINATURA CONTRATO\",className: \"coluna-livre\"}\\n                , {name: \"dataPublicacaoDOU\", data: \"dataPublicacaoDOU\", title: \"DATA PUBLICAÇÃO DOU\",className: \"coluna-livre\"}\\n                , {name: \"dataInicioVigencia\", data: \"dataInicioVigencia\", title: \"DATA INÍCIO VIGÊNCIA\",className: \"coluna-livre\"}\\n                , {name: \"dataFimVigencia\", data: \"dataFimVigencia\", title: \"DATA FIM VIGÊNCIA\",className: \"coluna-livre\"}\\n                , {name: \"orgaoSuperior\", data: \"orgaoSuperior\", title: \"ORGÃO SUPERIOR CONTRATANTE\",className: \"coluna-livre\"}\\n                , {name: \"orgaoEntidadeVinculada\", data: \"orgaoEntidadeVinculada\", title: \"ÓRGÃO / ENTIDADE VINCULADA CONTRATANTE\",className: \"coluna-livre\"}\\n                , {name: \"unidadeGestora\", data: \"unidadeGestora\", title: \"UNIDADE GESTORA CONTRATANTE\",className: \"coluna-livre\"}\\n                , {name: \"formaContratacao\", data: \"formaContratacao\", title: \"FORMA DE CONTRATAÇÃO\",className: \"coluna-livre\"}\\n                , {name: \"grupoObjetoContratacao\", data: \"grupoObjetoContratacao\", title: \"GRUPO DE OBJETO DE CONTRATAÇÃO\",className: \"coluna-livre\", orderable: false}\\n                , {name: \"numeroContrato\", data: \"numeroContrato\", title: \"NÚMERO DO CONTRATO\",\\n                    render: function (data) {\\n                        if (data === \"-1\") {\\n                            return \"SEM CONTRATO\"\\n                        } else {\\n                            return data;\\n                        }\\n                    }\\n                }\\n                , {name: \"nomeFornecedor\", data: \"nomeFornecedor\", title: \"NOME DO FORNECEDOR\",className: \"coluna-livre\"}\\n                , {name: \"cpfCnpjFornecedor\", data: \"cpfCnpjFornecedor\", title: \"CPF / CNPJ DO FORNECEDOR\", orderable: false}\\n                , {name: \"situacao\", data: \"situacao\", title: \"SITUAÇÃO\",className: \"coluna-livre\"}\\n                , {name: \"valorContratado\", data: \"valorContratado\", title: \"VALOR CONTRATADO\",className: \"coluna-livre\"}\\n            ]\\n        });\\n    });\\n</script>\\n    <script type=\"text/javascript\" src=\"/static/libs/bootstrap-multiselect/js/bootstrap-multiselect.min.js?v=1.7.1\"></script>\\n    <script type=\"text/javascript\" src=\"/static/libs/tokeninput/jquery.tokeninput.js?v=1.7.1\"></script>\\n    <script type=\"text/javascript\" src=\"/static/libs/talk/moment-with-locales.js?v=1.7.1\"></script>\\n    <script type=\"text/javascript\" src=\"/static/js/filtros.js?v=1.7.1\"></script>\\n    <script type=\"text/javascript\" src=\"/static/js/multiselect.js?v=1.7.1\"></script>\\n    <script type=\"text/javascript\" src=\"/static/js/autocomplete.js?v=1.7.1\"></script>\\n\\n    <link rel=\"stylesheet\" href=\"/static/libs/bootstrap-multiselect/css/bootstrap-multiselect.css?v=1.7.1\"/>\\n    <link rel=\"stylesheet\" href=\"/static/libs/tokeninput/token-input.css?v=1.7.1\"/>\\n\\n    <script>\\n    $(function(){\\n\\n        var btnAdicionarEvent = function(e){\\n\\n            if(Filtros.isCampoDataInvalido(e.target) || Filtros.isAutoCompleteVazio()){\\n                return false;\\n            }\\n            Filtros.atualizarSumario();\\n            Filtros.fechaGavetaFiltro();\\n            Filtros.exibirBotaoConsulta();\\n        };\\n\\n        var btnConsultarEvent = function(e){\\n            Filtros.atualizarSumario();\\n            grid.consultar();\\n        };\\n\\n        MultiselectAjax.init(btnAdicionarEvent);\\n        var autoComplete = new Autocomplete();\\n        autoComplete.init();\\n        Filtros.incluirComportamentoEnter();\\n        $(\".btn-adicionar\").click(btnAdicionarEvent);\\n        $(\".btn-consultar\").click(btnConsultarEvent);\\n        Filtros.exibir();\\n        Filtros.marcarBotao();\\n        Filtros.atualizarSumario();\\n        Filtros.escondeFiltroPorPadraoUsuarioMobile();\\n    });\\n    </script>\\n\\n\\n\\n<!-- BARRA DO TOPO DO GOVERNO -->\\n\\n<!--[if (gt IE 8)|(!IE)]> -->\\n<!-- <![endif]-->\\n\\n</body>\\n</html>\\n'"
      ]
     },
     "execution_count": 107,
     "metadata": {},
     "output_type": "execute_result"
    }
   ],
   "source": [
    "article"
   ]
  },
  {
   "cell_type": "code",
   "execution_count": null,
   "metadata": {},
   "outputs": [],
   "source": []
  },
  {
   "cell_type": "code",
   "execution_count": null,
   "metadata": {},
   "outputs": [],
   "source": []
  },
  {
   "cell_type": "code",
   "execution_count": 99,
   "metadata": {},
   "outputs": [],
   "source": [
    "import requests\n",
    "from bs4 import BeautifulSoup\n",
    "\n",
    "URL = 'http://www.portaltransparencia.gov.br/contratos/consulta?paginacaoSimples=true&tamanhoPagina=&offset=&direcaoOrdenacao=asc&colunasSelecionadas=linkDetalhamento%2CdataAssinatura%2CdataPublicacaoDOU%2CdataInicioVigencia%2CdataFimVigencia%2CorgaoSuperior%2CorgaoEntidadeVinculada%2CunidadeGestora%2CformaContratacao%2CgrupoObjetoContratacao%2CnumeroContrato%2CnomeFornecedor%2CcpfCnpjFornecedor%2Csituacao%2CvalorContratado'\n",
    "page = requests.get(URL)\n",
    "\n",
    "\n",
    "article = open('ISO_3166-1_alpha-2.html').read()\n",
    "\n",
    "\n",
    "soup = BeautifulSoup(page.content, 'html.parser')\n",
    "\n",
    "tables = soup.find_all('table', class_='dataTable no-footer')\n",
    "\n",
    "\n",
    "# table = soup.find_all('table')\n",
    "# tabid = table['id']\n",
    "# ops = self.parse_html_table(table)\n",
    "\n",
    "\n",
    "# tableDiv = soup.find_all('div', id=\"lista_wrapper\")\n",
    "# tableRows = tableDiv[0].findAll('tr')\n",
    "\n",
    "# for tableRow in tableRows[2:]:\n",
    "#     row = tuple(tableRow.getText().split())\n",
    "#     print ('\"%s\",%s,%s,%s,%s,\"%s\"' % row)"
   ]
  },
  {
   "cell_type": "code",
   "execution_count": 97,
   "metadata": {},
   "outputs": [
    {
     "data": {
      "text/plain": [
       "[]"
      ]
     },
     "execution_count": 97,
     "metadata": {},
     "output_type": "execute_result"
    }
   ],
   "source": [
    "tables"
   ]
  },
  {
   "cell_type": "code",
   "execution_count": null,
   "metadata": {},
   "outputs": [],
   "source": []
  },
  {
   "cell_type": "code",
   "execution_count": 60,
   "metadata": {},
   "outputs": [
    {
     "ename": "AttributeError",
     "evalue": "'NoneType' object has no attribute 'find'",
     "output_type": "error",
     "traceback": [
      "\u001b[0;31m---------------------------------------------------------------------------\u001b[0m",
      "\u001b[0;31mAttributeError\u001b[0m                            Traceback (most recent call last)",
      "\u001b[0;32m<ipython-input-60-0701fbe3f092>\u001b[0m in \u001b[0;36m<module>\u001b[0;34m()\u001b[0m\n\u001b[1;32m      1\u001b[0m \u001b[0mdata\u001b[0m \u001b[0;34m=\u001b[0m \u001b[0;34m[\u001b[0m\u001b[0;34m]\u001b[0m\u001b[0;34m\u001b[0m\u001b[0m\n\u001b[1;32m      2\u001b[0m \u001b[0mtable\u001b[0m \u001b[0;34m=\u001b[0m \u001b[0msoup\u001b[0m\u001b[0;34m.\u001b[0m\u001b[0mfind\u001b[0m\u001b[0;34m(\u001b[0m\u001b[0;34m'table'\u001b[0m\u001b[0;34m,\u001b[0m \u001b[0mattrs\u001b[0m\u001b[0;34m=\u001b[0m\u001b[0;34m{\u001b[0m\u001b[0;34m'class'\u001b[0m\u001b[0;34m:\u001b[0m\u001b[0;34m'dataTable no-footer'\u001b[0m\u001b[0;34m}\u001b[0m\u001b[0;34m)\u001b[0m\u001b[0;34m\u001b[0m\u001b[0m\n\u001b[0;32m----> 3\u001b[0;31m \u001b[0mtable_body\u001b[0m \u001b[0;34m=\u001b[0m \u001b[0mtable\u001b[0m\u001b[0;34m.\u001b[0m\u001b[0mfind\u001b[0m\u001b[0;34m(\u001b[0m\u001b[0;34m'tbody'\u001b[0m\u001b[0;34m)\u001b[0m\u001b[0;34m\u001b[0m\u001b[0m\n\u001b[0m\u001b[1;32m      4\u001b[0m \u001b[0;34m\u001b[0m\u001b[0m\n\u001b[1;32m      5\u001b[0m \u001b[0;31m# rows = table_body.find_all('tr')\u001b[0m\u001b[0;34m\u001b[0m\u001b[0;34m\u001b[0m\u001b[0m\n",
      "\u001b[0;31mAttributeError\u001b[0m: 'NoneType' object has no attribute 'find'"
     ]
    }
   ],
   "source": [
    "data = []\n",
    "table = soup.find('table', attrs={'class':'dataTable no-footer'})\n",
    "table_body = table.find('tbody')\n",
    "\n",
    "# rows = table_body.find_all('tr')\n",
    "# for row in rows:\n",
    "#     cols = row.find_all('td')\n",
    "#     cols = [ele.text.strip() for ele in cols]\n",
    "#     data.append([ele for ele in cols if ele]) # Get rid of empty values"
   ]
  },
  {
   "cell_type": "code",
   "execution_count": 59,
   "metadata": {},
   "outputs": [],
   "source": [
    "table"
   ]
  },
  {
   "cell_type": "code",
   "execution_count": 72,
   "metadata": {},
   "outputs": [],
   "source": [
    "import requests\n",
    "from bs4 import BeautifulSoup\n",
    "\n",
    "URL = 'http://www.nasdaq.com/symbol/amd/historical'\n",
    "\n",
    "URL = 'http://www.portaltransparencia.gov.br/contratos/consulta?paginacaoSimples=true&tamanhoPagina=&offset=&direcaoOrdenacao=asc&colunasSelecionadas=linkDetalhamento%2CdataAssinatura%2CdataPublicacaoDOU%2CdataInicioVigencia%2CdataFimVigencia%2CorgaoSuperior%2CorgaoEntidadeVinculada%2CunidadeGestora%2CformaContratacao%2CgrupoObjetoContratacao%2CnumeroContrato%2CnomeFornecedor%2CcpfCnpjFornecedor%2Csituacao%2CvalorContratado'\n",
    "#page = requests.get(URL).text\n",
    "\n",
    "page = requests.get(URL)\n",
    "#soup = BeautifulSoup(page, 'lxml')\n",
    "\n",
    "#table id=\"lista\" class=\"dataTable no-footer\"\n",
    "\n",
    "soup = BeautifulSoup(page.content, 'html.parser')\n",
    "\n",
    "\n",
    "\n",
    "\n",
    "tableDiv = soup.find('div',class_='wrapper-table')\n",
    "# tableRows = tableDiv[0].findAll('table')\n",
    "\n",
    "# table = soup.find_all('table', class_ = 'dataTable no-footer')\n",
    "#table_body = table.find_all('tbody')\n",
    "\n",
    "# for tableRow in tableRows[2:]:\n",
    "#    row = tuple(tableRow.getText().split())\n",
    "#    print ('\"%s\",%s,%s,%s,%s,\"%s\"' % row)\n",
    "\n",
    "\n",
    "\n"
   ]
  },
  {
   "cell_type": "code",
   "execution_count": 73,
   "metadata": {},
   "outputs": [
    {
     "data": {
      "text/plain": [
       "<div class=\"wrapper-table\">\n",
       "<div class=\"spinner-container loading-grande\" id=\"spinner\" style=\"display:none; margin: 50px 50% 500px\">\n",
       "<i class=\"fa fa-circle-o-notch fa-spin\"></i>\n",
       "<span class=\"spinner-text\" style=\"font-size: .35em; margin: 10px -110px; display: block; text-align: left; white-space: nowrap;\">\n",
       "                    Esta consulta pode demorar alguns minutos\n",
       "                </span>\n",
       "</div>\n",
       "<table id=\"lista\">\n",
       "</table>\n",
       "</div>"
      ]
     },
     "execution_count": 73,
     "metadata": {},
     "output_type": "execute_result"
    }
   ],
   "source": [
    "tableDiv"
   ]
  },
  {
   "cell_type": "code",
   "execution_count": null,
   "metadata": {},
   "outputs": [],
   "source": []
  },
  {
   "cell_type": "code",
   "execution_count": null,
   "metadata": {},
   "outputs": [],
   "source": []
  },
  {
   "cell_type": "code",
   "execution_count": 3,
   "metadata": {},
   "outputs": [
    {
     "ename": "KeyError",
     "evalue": "'content-type'",
     "output_type": "error",
     "traceback": [
      "\u001b[0;31m---------------------------------------------------------------------------\u001b[0m",
      "\u001b[0;31mKeyError\u001b[0m                                  Traceback (most recent call last)",
      "\u001b[0;32m<ipython-input-3-401cba6bd663>\u001b[0m in \u001b[0;36m<module>\u001b[0;34m()\u001b[0m\n\u001b[1;32m    113\u001b[0m \u001b[0;34m\u001b[0m\u001b[0m\n\u001b[1;32m    114\u001b[0m \u001b[0;32mif\u001b[0m \u001b[0m__name__\u001b[0m \u001b[0;34m==\u001b[0m \u001b[0;34m'__main__'\u001b[0m\u001b[0;34m:\u001b[0m\u001b[0;34m\u001b[0m\u001b[0m\n\u001b[0;32m--> 115\u001b[0;31m     \u001b[0mmain\u001b[0m\u001b[0;34m(\u001b[0m\u001b[0;34m)\u001b[0m\u001b[0;34m\u001b[0m\u001b[0m\n\u001b[0m",
      "\u001b[0;32m<ipython-input-3-401cba6bd663>\u001b[0m in \u001b[0;36mmain\u001b[0;34m()\u001b[0m\n\u001b[1;32m    106\u001b[0m \u001b[0;34m\u001b[0m\u001b[0m\n\u001b[1;32m    107\u001b[0m \u001b[0;32mdef\u001b[0m \u001b[0mmain\u001b[0m\u001b[0;34m(\u001b[0m\u001b[0;34m)\u001b[0m\u001b[0;34m:\u001b[0m\u001b[0;34m\u001b[0m\u001b[0m\n\u001b[0;32m--> 108\u001b[0;31m     \u001b[0msimple_get\u001b[0m\u001b[0;34m(\u001b[0m\u001b[0murl_values\u001b[0m\u001b[0;34m)\u001b[0m\u001b[0;34m\u001b[0m\u001b[0m\n\u001b[0m\u001b[1;32m    109\u001b[0m     \u001b[0msimple_get\u001b[0m\u001b[0;34m(\u001b[0m\u001b[0murl_code_name\u001b[0m\u001b[0;34m)\u001b[0m\u001b[0;34m\u001b[0m\u001b[0m\n\u001b[1;32m    110\u001b[0m     \u001b[0mget_codes_names\u001b[0m\u001b[0;34m(\u001b[0m\u001b[0murl_code_name\u001b[0m\u001b[0;34m)\u001b[0m\u001b[0;34m\u001b[0m\u001b[0m\n",
      "\u001b[0;32m<ipython-input-3-401cba6bd663>\u001b[0m in \u001b[0;36msimple_get\u001b[0;34m(url)\u001b[0m\n\u001b[1;32m     24\u001b[0m     \u001b[0;32mtry\u001b[0m\u001b[0;34m:\u001b[0m\u001b[0;34m\u001b[0m\u001b[0m\n\u001b[1;32m     25\u001b[0m         \u001b[0;32mwith\u001b[0m \u001b[0mclosing\u001b[0m\u001b[0;34m(\u001b[0m\u001b[0mget\u001b[0m\u001b[0;34m(\u001b[0m\u001b[0murl\u001b[0m\u001b[0;34m,\u001b[0m \u001b[0mstream\u001b[0m\u001b[0;34m=\u001b[0m\u001b[0;32mTrue\u001b[0m\u001b[0;34m)\u001b[0m\u001b[0;34m)\u001b[0m \u001b[0;32mas\u001b[0m \u001b[0mresp\u001b[0m\u001b[0;34m:\u001b[0m\u001b[0;34m\u001b[0m\u001b[0m\n\u001b[0;32m---> 26\u001b[0;31m             \u001b[0;32mif\u001b[0m \u001b[0mis_good_response\u001b[0m\u001b[0;34m(\u001b[0m\u001b[0mresp\u001b[0m\u001b[0;34m)\u001b[0m\u001b[0;34m:\u001b[0m\u001b[0;34m\u001b[0m\u001b[0m\n\u001b[0m\u001b[1;32m     27\u001b[0m                 \u001b[0;32mreturn\u001b[0m \u001b[0mresp\u001b[0m\u001b[0;34m.\u001b[0m\u001b[0mcontent\u001b[0m\u001b[0;34m\u001b[0m\u001b[0m\n\u001b[1;32m     28\u001b[0m \u001b[0;34m\u001b[0m\u001b[0m\n",
      "\u001b[0;32m<ipython-input-3-401cba6bd663>\u001b[0m in \u001b[0;36mis_good_response\u001b[0;34m(resp)\u001b[0m\n\u001b[1;32m     36\u001b[0m \u001b[0;34m\u001b[0m\u001b[0m\n\u001b[1;32m     37\u001b[0m \u001b[0;32mdef\u001b[0m \u001b[0mis_good_response\u001b[0m\u001b[0;34m(\u001b[0m\u001b[0mresp\u001b[0m\u001b[0;34m)\u001b[0m\u001b[0;34m:\u001b[0m\u001b[0;34m\u001b[0m\u001b[0m\n\u001b[0;32m---> 38\u001b[0;31m     \u001b[0mcontent_type\u001b[0m \u001b[0;34m=\u001b[0m \u001b[0mresp\u001b[0m\u001b[0;34m.\u001b[0m\u001b[0mheaders\u001b[0m\u001b[0;34m[\u001b[0m\u001b[0;34m'Content-Type'\u001b[0m\u001b[0;34m]\u001b[0m\u001b[0;34m.\u001b[0m\u001b[0mlower\u001b[0m\u001b[0;34m(\u001b[0m\u001b[0;34m)\u001b[0m\u001b[0;34m\u001b[0m\u001b[0m\n\u001b[0m\u001b[1;32m     39\u001b[0m     return (resp.status_code == 200\n\u001b[1;32m     40\u001b[0m             \u001b[0;32mand\u001b[0m \u001b[0mcontent_type\u001b[0m \u001b[0;32mis\u001b[0m \u001b[0;32mnot\u001b[0m \u001b[0;32mNone\u001b[0m\u001b[0;34m\u001b[0m\u001b[0m\n",
      "\u001b[0;32m/opt/conda/lib/python3.6/site-packages/requests/structures.py\u001b[0m in \u001b[0;36m__getitem__\u001b[0;34m(self, key)\u001b[0m\n\u001b[1;32m     50\u001b[0m \u001b[0;34m\u001b[0m\u001b[0m\n\u001b[1;32m     51\u001b[0m     \u001b[0;32mdef\u001b[0m \u001b[0m__getitem__\u001b[0m\u001b[0;34m(\u001b[0m\u001b[0mself\u001b[0m\u001b[0;34m,\u001b[0m \u001b[0mkey\u001b[0m\u001b[0;34m)\u001b[0m\u001b[0;34m:\u001b[0m\u001b[0;34m\u001b[0m\u001b[0m\n\u001b[0;32m---> 52\u001b[0;31m         \u001b[0;32mreturn\u001b[0m \u001b[0mself\u001b[0m\u001b[0;34m.\u001b[0m\u001b[0m_store\u001b[0m\u001b[0;34m[\u001b[0m\u001b[0mkey\u001b[0m\u001b[0;34m.\u001b[0m\u001b[0mlower\u001b[0m\u001b[0;34m(\u001b[0m\u001b[0;34m)\u001b[0m\u001b[0;34m]\u001b[0m\u001b[0;34m[\u001b[0m\u001b[0;36m1\u001b[0m\u001b[0;34m]\u001b[0m\u001b[0;34m\u001b[0m\u001b[0m\n\u001b[0m\u001b[1;32m     53\u001b[0m \u001b[0;34m\u001b[0m\u001b[0m\n\u001b[1;32m     54\u001b[0m     \u001b[0;32mdef\u001b[0m \u001b[0m__delitem__\u001b[0m\u001b[0;34m(\u001b[0m\u001b[0mself\u001b[0m\u001b[0;34m,\u001b[0m \u001b[0mkey\u001b[0m\u001b[0;34m)\u001b[0m\u001b[0;34m:\u001b[0m\u001b[0;34m\u001b[0m\u001b[0m\n",
      "\u001b[0;31mKeyError\u001b[0m: 'content-type'"
     ]
    }
   ],
   "source": [
    "#!/usr/bin/env python3\n",
    "from requests import get\n",
    "from requests.exceptions import RequestException\n",
    "from contextlib import closing\n",
    "from bs4 import BeautifulSoup as bs\n",
    "\n",
    "import requests\n",
    "import numpy as np\n",
    "import csv\n",
    "import matplotlib.pyplot as plt\n",
    "\n",
    "url_values = 'http://www.portaltransparencia.gov.br/PortalComprasDiretasOEOr' \\\n",
    "        'gaoSubordinado.asp?Ano=%i&CodigoOS=%s'\n",
    "url_code_name = 'http://www.portaltransparencia.gov.br/PortalComprasDiretasO' \\\n",
    "        'EOrgaoSuperior.asp?Ano=2018&Pagina=%i'\n",
    "\n",
    "years = range(2018, 2019)\n",
    "\n",
    "file_csv = 'datas.csv'\n",
    "\n",
    "codes = list()\n",
    "names = list()\n",
    "\n",
    "\n",
    "def simple_get(url):\n",
    "    try:\n",
    "        with closing(get(url, stream=True)) as resp:\n",
    "            if is_good_response(resp):\n",
    "                return resp.content\n",
    "\n",
    "            else:\n",
    "                return None\n",
    "\n",
    "    except RequestException as e:\n",
    "        log_error('Error during requests to {0} : {1}'.format(url, str(e)))\n",
    "        return None\n",
    "\n",
    "\n",
    "def is_good_response(resp):\n",
    "    content_type = resp.headers['Content-Type'].lower()\n",
    "    return (resp.status_code == 200\n",
    "            and content_type is not None\n",
    "            and content_type.find('html') > -1)\n",
    "\n",
    "\n",
    "def log_error(e):\n",
    "    print(e)\n",
    "\n",
    "\n",
    "def get_codes_names(url):\n",
    "    pages = [1, 2]\n",
    "\n",
    "    for page in pages:\n",
    "        url_code = url_code_name % (page)\n",
    "        req = requests.get(url_code)\n",
    "        html = bs(req.content, 'html.parser')\n",
    "        tr = html.find_all('tr')\n",
    "        del tr[:3]\n",
    "\n",
    "        for i in range(len(tr)):\n",
    "            td = tr[i].find_all('td')\n",
    "            code = td[0].text.strip()\n",
    "            name = td[1].text.strip()\n",
    "            codes.append(code)\n",
    "            names.append(name)\n",
    "    return codes, names\n",
    "\n",
    "\n",
    "def get_values(code):\n",
    "    values = list()\n",
    "\n",
    "    for year in years:\n",
    "        url_orgao = url_values % (year, code)\n",
    "        req = requests.get(url_orgao)\n",
    "        html = bs(req.content, 'html.parser')\n",
    "        value = html.find_all('td', class_='colunaValor')\n",
    "\n",
    "        if not value:\n",
    "            value = '0,0'\n",
    "            print('Verificar se o Ministério de código {} existia no ano'\n",
    "                  '{} .'.format(code, year))\n",
    "\n",
    "        if value is not None:\n",
    "            value = value[1].text.strip()\n",
    "            value = (str(value))\n",
    "        \n",
    "        values.append(value)\n",
    "    return values\n",
    "\n",
    "\n",
    "def save_datas(codes, names, years):\n",
    "    csvfile = open(file_csv, 'a')\n",
    "    years = list(map(str, years))\n",
    "    header = ['Código', 'Órgão']\n",
    "    header.extend(years)\n",
    "    datas = csv.writer(csvfile,\n",
    "                       delimiter='|',\n",
    "                       quotechar='|',\n",
    "                       quoting=csv.QUOTE_MINIMAL)\n",
    "    datas.writerow(header)\n",
    "\n",
    "    for code in range(len(codes)):\n",
    "        result_values = get_values(codes[code])\n",
    "        result_codes_names = [codes[code], names[code]]\n",
    "        result_codes_names.extend(result_values)\n",
    "        datas.writerow(result_codes_names)\n",
    "\n",
    "\n",
    "def main():\n",
    "    simple_get(url_values)\n",
    "    simple_get(url_code_name)\n",
    "    get_codes_names(url_code_name)\n",
    "    save_datas(codes, names, years)\n",
    "\n",
    "\n",
    "if __name__ == '__main__':\n",
    "    main()"
   ]
  },
  {
   "cell_type": "code",
   "execution_count": null,
   "metadata": {},
   "outputs": [],
   "source": []
  }
 ],
 "metadata": {
  "kernelspec": {
   "display_name": "Python 3",
   "language": "python",
   "name": "python3"
  },
  "language_info": {
   "codemirror_mode": {
    "name": "ipython",
    "version": 3
   },
   "file_extension": ".py",
   "mimetype": "text/x-python",
   "name": "python",
   "nbconvert_exporter": "python",
   "pygments_lexer": "ipython3",
   "version": "3.6.6"
  }
 },
 "nbformat": 4,
 "nbformat_minor": 2
}
